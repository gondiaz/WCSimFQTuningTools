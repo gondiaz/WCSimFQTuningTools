{
 "cells": [
  {
   "cell_type": "code",
   "execution_count": 2,
   "metadata": {},
   "outputs": [
    {
     "name": "stdout",
     "output_type": "stream",
     "text": [
      "Welcome to JupyROOT 6.28/07\n"
     ]
    }
   ],
   "source": [
    "import os\n",
    "import re\n",
    "import ROOT\n",
    "import uproot\n",
    "import numpy as np\n",
    "import matplotlib.pyplot as plt\n",
    "plt.rcParams[\"figure.figsize\"] = (5, 3)"
   ]
  },
  {
   "cell_type": "code",
   "execution_count": 7,
   "metadata": {},
   "outputs": [],
   "source": [
    "def gaussian(x, mu, sig):\n",
    "    return (1/(sig*np.sqrt(2.*np.pi)))*np.exp(-(x-mu)**2/(2*sig**2))"
   ]
  },
  {
   "cell_type": "code",
   "execution_count": 8,
   "metadata": {},
   "outputs": [
    {
     "data": {
      "text/plain": [
       "{'gtcmnpar_0;1': 'TGraphErrors',\n",
       " 'gtcsgpar_0;1': 'TGraphErrors',\n",
       " 'gtcmnpar_1;1': 'TGraphErrors',\n",
       " 'gtcsgpar_1;1': 'TGraphErrors',\n",
       " 'gtcmnpar_2;1': 'TGraphErrors',\n",
       " 'gtcsgpar_2;1': 'TGraphErrors',\n",
       " 'gtcmnpar_3;1': 'TGraphErrors',\n",
       " 'gtcsgpar_3;1': 'TGraphErrors',\n",
       " 'gtcmnpar_4;1': 'TGraphErrors',\n",
       " 'gtcsgpar_4;1': 'TGraphErrors',\n",
       " 'gtcmnpar_5;1': 'TGraphErrors',\n",
       " 'gtcsgpar_5;1': 'TGraphErrors',\n",
       " 'gtcmnpar_6;1': 'TGraphErrors',\n",
       " 'gtcsgpar_6;1': 'TGraphErrors',\n",
       " 'hmean_150;1': 'TH1D',\n",
       " 'hsigm_150;1': 'TH1D',\n",
       " 'hmean_250;1': 'TH1D',\n",
       " 'hsigm_250;1': 'TH1D',\n",
       " 'hmean_350;1': 'TH1D',\n",
       " 'hsigm_350;1': 'TH1D',\n",
       " 'hmean_450;1': 'TH1D',\n",
       " 'hsigm_450;1': 'TH1D',\n",
       " 'hmean_550;1': 'TH1D',\n",
       " 'hsigm_550;1': 'TH1D',\n",
       " 'hmean_650;1': 'TH1D',\n",
       " 'hsigm_650;1': 'TH1D',\n",
       " 'hmean_750;1': 'TH1D',\n",
       " 'hsigm_750;1': 'TH1D',\n",
       " 'hmean_850;1': 'TH1D',\n",
       " 'hsigm_850;1': 'TH1D',\n",
       " 'hmean_950;1': 'TH1D',\n",
       " 'hsigm_950;1': 'TH1D',\n",
       " 'hmean_1000;1': 'TH1D',\n",
       " 'hsigm_1000;1': 'TH1D',\n",
       " 'htpdfinfo;1': 'TH1D',\n",
       " 'hmean_step0;1': 'TH2D',\n",
       " 'hsigm_step0;1': 'TH2D',\n",
       " 'hmean_step1;1': 'TH2D',\n",
       " 'hsigm_step1;1': 'TH2D',\n",
       " 'htpdfparmn;1': 'TH2D',\n",
       " 'htpdfparsg;1': 'TH2D'}"
      ]
     },
     "execution_count": 8,
     "metadata": {},
     "output_type": "execute_result"
    }
   ],
   "source": [
    "# get 3D histogram\n",
    "fname = os.path.expandvars(\"$HOME/Software/HK_Software/WCSimFQTuningTools/Time/old_tools/11_tpdfhist.root\")\n",
    "with uproot.open(fname) as f:\n",
    "    H, tresbins, trueqbins, mombins = f[\"hist_tpdf\"].to_numpy()\n",
    "\n",
    "# compute bin centers\n",
    "moms   = (mombins  [1:] + mombins  [:-1])/2.\n",
    "trueqs = (trueqbins[1:] + trueqbins[:-1])/2.\n",
    "tress  = (tresbins [1:] + tresbins [:-1])/2.\n",
    "\n",
    "fname = os.path.expandvars(\"$HOME/Software/HK_Software/WCSimFQTuningTools/Time/old_tools/11_tpdfpar.root\")\n",
    "f = uproot.open(fname)\n",
    "f.classnames()"
   ]
  },
  {
   "cell_type": "code",
   "execution_count": 9,
   "metadata": {},
   "outputs": [
    {
     "name": "stdout",
     "output_type": "stream",
     "text": [
      "p =  1000\n"
     ]
    }
   ],
   "source": [
    "# choose a random momentum and read mean values\n",
    "mom = int(np.random.choice(moms))\n",
    "print(\"p = \", mom)\n",
    "\n",
    "mean, trueqbins_  = f[f\"hmean_{mom}\"].to_numpy()\n",
    "assert (trueqbins_ == trueqbins).all()\n",
    "sigma, trueqbins_ = f[f\"hsigm_{mom}\"].to_numpy()\n",
    "assert (trueqbins_ == trueqbins).all()\n",
    "\n",
    "# # equivalent, use 2D (p, trueq) hmean_step0\n",
    "# # better not to use because it contains failed fit as non-zeros\n",
    "# hmean_step0, mombins_, trueqbins_ = f[\"hmean_step0\"].to_numpy()\n",
    "\n",
    "# assert (mombins_ == mombins).all()\n",
    "# assert (trueqbins_ == trueqbins).all()"
   ]
  },
  {
   "cell_type": "code",
   "execution_count": 68,
   "metadata": {},
   "outputs": [
    {
     "name": "stdout",
     "output_type": "stream",
     "text": [
      "log10(trueq) =  -1.46\n"
     ]
    },
    {
     "data": {
      "image/png": "[encoded data removed]",
      "text/plain": [
       "<Figure size 500x300 with 1 Axes>"
      ]
     },
     "metadata": {},
     "output_type": "display_data"
    }
   ],
   "source": [
    "# choose random trueq\n",
    "trueq = np.random.choice(trueqs)\n",
    "print(\"log10(trueq) = \", trueq)\n",
    "\n",
    "# find projection\n",
    "pi  = np.digitize(mom, mombins)-1\n",
    "tqi = np.digitize(trueq, trueqbins)-1\n",
    "proj = H[:, tqi, pi]\n",
    "norm = np.sum(proj * (tresbins[1:] - tresbins[:-1]))\n",
    "\n",
    "# find mean and sigma from gaussian\n",
    "mu  = mean [tqi]\n",
    "sig = sigma[tqi]\n",
    "\n",
    "# plot\n",
    "plt.figure()\n",
    "\n",
    "plt.title(f\"p (MeV/c) = {mom}  || \" + r\"$\\log_{10}(\\mu^{dir})=$\" + f\"{round(trueq, 3)}\")\n",
    "\n",
    "plt.stairs(proj/norm, tresbins, color=\"k\")\n",
    "plt.plot(tress, gaussian(tress, mu, sig), color=\"k\")\n",
    "\n",
    "plt.tight_layout()"
   ]
  },
  {
   "cell_type": "code",
   "execution_count": 62,
   "metadata": {},
   "outputs": [
    {
     "data": {
      "text/plain": [
       "36.0"
      ]
     },
     "execution_count": 62,
     "metadata": {},
     "output_type": "execute_result"
    }
   ],
   "source": [
    "proj.sum()"
   ]
  },
  {
   "cell_type": "code",
   "execution_count": null,
   "metadata": {},
   "outputs": [],
   "source": []
  },
  {
   "cell_type": "code",
   "execution_count": 47,
   "metadata": {},
   "outputs": [
    {
     "data": {
      "text/plain": [
       "True"
      ]
     },
     "execution_count": 47,
     "metadata": {},
     "output_type": "execute_result"
    }
   ],
   "source": []
  },
  {
   "cell_type": "code",
   "execution_count": null,
   "metadata": {},
   "outputs": [],
   "source": []
  },
  {
   "cell_type": "code",
   "execution_count": 3,
   "metadata": {},
   "outputs": [],
   "source": []
  },
  {
   "cell_type": "code",
   "execution_count": null,
   "metadata": {},
   "outputs": [],
   "source": []
  }
 ],
 "metadata": {
  "kernelspec": {
   "display_name": "Python 3 (ipykernel)",
   "language": "python",
   "name": "python3"
  },
  "language_info": {
   "codemirror_mode": {
    "name": "ipython",
    "version": 3
   },
   "file_extension": ".py",
   "mimetype": "text/x-python",
   "name": "python",
   "nbconvert_exporter": "python",
   "pygments_lexer": "ipython3",
   "version": "3.10.13"
  }
 },
 "nbformat": 4,
 "nbformat_minor": 2
}
