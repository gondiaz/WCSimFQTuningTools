{
 "cells": [
  {
   "cell_type": "code",
   "execution_count": 1,
   "metadata": {},
   "outputs": [],
   "source": [
    "import glob\n",
    "import random\n",
    "import pandas as pd\n",
    "import numpy  as np\n",
    "import tables as tb\n",
    "from os.path import expandvars, join\n",
    "\n",
    "from itertools import product\n",
    "\n",
    "import matplotlib.pyplot as plt\n",
    "%matplotlib widget"
   ]
  },
  {
   "cell_type": "code",
   "execution_count": 2,
   "metadata": {},
   "outputs": [],
   "source": [
    "outfilename = expandvars(\"$HOME/Software/WCSimFQTuningTools/LUTable/qdistributions.h5\")\n",
    "# outfilename = expandvars(\"$T2K_LUSTRE/LUTable/distributions/out/qdistributions_1.h5\")"
   ]
  },
  {
   "cell_type": "code",
   "execution_count": 3,
   "metadata": {},
   "outputs": [],
   "source": [
    "with tb.open_file(outfilename) as f:\n",
    "    rbins     = f.root.rbins    .read()\n",
    "    dphibins  = f.root.dphibins .read()\n",
    "    thposbins = f.root.thposbins.read()\n",
    "    thdirbins = f.root.thdirbins.read()\n",
    "\n",
    "    # stats = f.root.stats.read()"
   ]
  },
  {
   "cell_type": "code",
   "execution_count": 4,
   "metadata": {},
   "outputs": [],
   "source": [
    "with tb.open_file(outfilename) as f:\n",
    "    rbins     = f.root.rbins    .read()\n",
    "    dphibins  = f.root.dphibins .read()\n",
    "    thposbins = f.root.thposbins.read()\n",
    "    thdirbins = f.root.thdirbins.read()\n",
    "\n",
    "    indices   = f.root.indices  .read()\n",
    "\n",
    "bin_indices = np.array(list(product(range(len(rbins)    -1)\n",
    "                                  , range(len(dphibins) -1)\n",
    "                                  , range(len(thposbins)-1)\n",
    "                                  , range(len(thdirbins)-1))))\n",
    "nbins = len(bin_indices)"
   ]
  },
  {
   "cell_type": "code",
   "execution_count": 12,
   "metadata": {},
   "outputs": [],
   "source": [
    "flatindex = np.random.randint(nbins)\n",
    "bin       = bin_indices[flatindex]\n",
    "\n",
    "r     =     rbins[bin[0]]\n",
    "dphi  =  dphibins[bin[1]]\n",
    "thpos = thposbins[bin[2]]\n",
    "thdir = thdirbins[bin[3]]\n",
    "\n",
    "with tb.open_file(outfilename) as f:\n",
    "    qs = f.root.charges[indices[flatindex]]"
   ]
  },
  {
   "cell_type": "code",
   "execution_count": 13,
   "metadata": {},
   "outputs": [
    {
     "name": "stderr",
     "output_type": "stream",
     "text": [
      "/scratch/users/g/gdiazlop/ipykernel_902978/2956052041.py:6: UserWarning: Data has no positive values, and therefore cannot be log-scaled.\n",
      "  plt.yscale(\"log\")\n"
     ]
    },
    {
     "data": {
      "application/vnd.jupyter.widget-view+json": {
       "model_id": "a3396e1f6caf43198c47b2fe60b19384",
       "version_major": 2,
       "version_minor": 0
      },
      "image/png": "[encoded data removed]",
      "text/html": [
       "\n",
       "            <div style=\"display: inline-block;\">\n",
       "                <div class=\"jupyter-widgets widget-label\" style=\"text-align: center;\">\n",
       "                    Figure\n",
       "                </div>\n",
       "                <img src='data:image/png;base64,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' width=500.0/>\n",
       "            </div>\n",
       "        "
      ],
      "text/plain": [
       "Canvas(toolbar=Toolbar(toolitems=[('Home', 'Reset original view', 'home', 'home'), ('Back', 'Back to previous …"
      ]
     },
     "metadata": {},
     "output_type": "display_data"
    }
   ],
   "source": [
    "plt.figure(figsize=[5, 3])\n",
    "plt.title(rf\"r={r} cm, $\\Delta\\phi$={round(dphi, 2)}, $\\cos\\theta$={round(thpos, 2)}, $\\cos\\theta'$={round(thdir, 2)}\")\n",
    "\n",
    "plt.hist(qs, bins=np.linspace(0, 10., 100), histtype=\"step\")\n",
    "\n",
    "plt.yscale(\"log\")\n",
    "plt.tight_layout()"
   ]
  },
  {
   "cell_type": "code",
   "execution_count": null,
   "metadata": {},
   "outputs": [],
   "source": []
  },
  {
   "cell_type": "code",
   "execution_count": 14,
   "metadata": {},
   "outputs": [],
   "source": [
    "statsarray = np.zeros((len(rbins)-1, len(dphibins)-1, len(thposbins)-1, len(thdirbins)-1), dtype=int)\n",
    "\n",
    "with tb.open_file(outfilename) as f:\n",
    "    charges = f.root.charges\n",
    "\n",
    "    for i, qs in enumerate(charges):\n",
    "        statsarray[tuple(bin_indices[indices[i]])] = len(qs)"
   ]
  },
  {
   "cell_type": "code",
   "execution_count": null,
   "metadata": {},
   "outputs": [],
   "source": []
  },
  {
   "cell_type": "code",
   "execution_count": null,
   "metadata": {},
   "outputs": [],
   "source": [
    "\n"
   ]
  },
  {
   "cell_type": "code",
   "execution_count": null,
   "metadata": {},
   "outputs": [],
   "source": []
  },
  {
   "cell_type": "code",
   "execution_count": 17,
   "metadata": {},
   "outputs": [
    {
     "name": "stdout",
     "output_type": "stream",
     "text": [
      "  r  | dphi | thpos | thdir\n",
      "  0     0.0   -1.0   -0.4 \n",
      "  0     0.0   -1.0   -0.2 \n",
      "  0     0.0   -1.0   0.0  \n",
      "  0     0.0   -1.0   0.2  \n",
      "  0     0.0   -0.8   -0.4 \n",
      "  0     0.0   -0.8   -0.2 \n",
      "  0     0.0   -0.8   0.0  \n",
      "  0     0.0   -0.8   0.2  \n",
      "  0     0.0   -0.6   -0.4 \n",
      "  0     0.0   -0.6   -0.2 \n",
      "  0     0.0   -0.6   0.0  \n",
      "  0     0.0   -0.6   0.2  \n",
      "  0     0.0   -0.4   -0.4 \n",
      "  0     0.0   -0.4   -0.2 \n",
      "  0     0.0   -0.4   0.0  \n",
      "  0     0.0   -0.4   0.2  \n",
      "  0     0.0   -0.2   -0.4 \n",
      "  0     0.0   -0.2   -0.2 \n",
      "  0     0.0   -0.2   0.0  \n",
      "  0     0.0   -0.2   0.2  \n",
      "  0     0.0   0.0    -0.4 \n",
      "  0     0.0   0.0    -0.2 \n",
      "  0     0.0   0.0    0.0  \n",
      "  0     0.0   0.0    0.2  \n",
      "  0     0.0   0.2    -0.6 \n",
      "  0     0.0   0.2    -0.4 \n",
      "  0     0.0   0.2    -0.2 \n",
      "  0     0.0   0.2    0.0  \n",
      "  0     0.0   0.2    0.2  \n",
      "  0     0.0   0.4    -0.4 \n",
      "  0     0.0   0.4    -0.2 \n",
      "  0     0.0   0.4    0.0  \n",
      "  0     0.0   0.4    0.2  \n",
      "  0     0.0   0.6    -0.4 \n",
      "  0     0.0   0.6    -0.2 \n",
      "  0     0.0   0.6    0.0  \n",
      "  0     0.0   0.6    0.2  \n",
      "  0     0.0   0.8    -0.4 \n",
      "  0     0.0   0.8    -0.2 \n",
      "  0     0.0   0.8    0.0  \n",
      "  0     0.0   0.8    0.2  \n",
      "  0     0.1   -1.0   -0.4 \n",
      "  0     0.1   -1.0   -0.2 \n",
      "  0     0.1   -1.0   0.0  \n",
      "  0     0.1   -0.8   -0.4 \n",
      "  0     0.1   -0.8   -0.2 \n",
      "  0     0.1   -0.8   0.0  \n",
      "  0     0.1   -0.8   0.2  \n",
      "  0     0.1   -0.6   -0.6 \n",
      "  0     0.1   -0.6   -0.4 \n",
      "  0     0.1   -0.6   -0.2 \n",
      "  0     0.1   -0.6   0.0  \n",
      "  0     0.1   -0.6   0.2  \n",
      "  0     0.1   -0.4   -0.4 \n",
      "  0     0.1   -0.4   -0.2 \n",
      "  0     0.1   -0.4   0.0  \n",
      "  0     0.1   -0.4   0.2  \n",
      "  0     0.1   -0.2   -0.4 \n",
      "  0     0.1   -0.2   -0.2 \n",
      "  0     0.1   -0.2   0.0  \n",
      "  0     0.1   -0.2   0.2  \n",
      "  0     0.1   0.0    -0.4 \n",
      "  0     0.1   0.0    -0.2 \n",
      "  0     0.1   0.0    0.0  \n",
      "  0     0.1   0.0    0.2  \n",
      "  0     0.1   0.2    -0.4 \n",
      "  0     0.1   0.2    -0.2 \n",
      "  0     0.1   0.2    0.0  \n",
      "  0     0.1   0.2    0.2  \n",
      "  0     0.1   0.4    -0.4 \n",
      "  0     0.1   0.4    -0.2 \n",
      "  0     0.1   0.4    0.0  \n",
      "  0     0.1   0.4    0.2  \n",
      "  0     0.1   0.6    -0.4 \n",
      "  0     0.1   0.6    -0.2 \n",
      "  0     0.1   0.6    0.0  \n",
      "  0     0.1   0.6    0.2  \n",
      "  0     0.1   0.8    -0.2 \n",
      "  0     0.1   0.8    0.0  \n",
      "  0     0.2   -1.0   -0.4 \n",
      "  0     0.2   -1.0   -0.2 \n",
      "  0     0.2   -1.0   0.0  \n",
      "  0     0.2   -0.8   -0.4 \n",
      "  0     0.2   -0.8   -0.2 \n",
      "  0     0.2   -0.8   0.0  \n",
      "  0     0.2   -0.8   0.2  \n",
      "  0     0.2   -0.6   -0.4 \n",
      "  0     0.2   -0.6   -0.2 \n",
      "  0     0.2   -0.6   0.0  \n",
      "  0     0.2   -0.6   0.2  \n",
      "  0     0.2   -0.4   -0.4 \n",
      "  0     0.2   -0.4   -0.2 \n",
      "  0     0.2   -0.4   0.0  \n",
      "  0     0.2   -0.4   0.2  \n",
      "  0     0.2   -0.2   -0.4 \n",
      "  0     0.2   -0.2   -0.2 \n",
      "  0     0.2   -0.2   0.0  \n",
      "  0     0.2   -0.2   0.2  \n",
      "  0     0.2   0.0    -0.4 \n",
      "  0     0.2   0.0    -0.2 \n",
      "  0     0.2   0.0    0.0  \n",
      "  0     0.2   0.0    0.2  \n",
      "  0     0.2   0.2    -0.4 \n",
      "  0     0.2   0.2    -0.2 \n",
      "  0     0.2   0.2    0.0  \n",
      "  0     0.2   0.2    0.2  \n",
      "  0     0.2   0.4    -0.4 \n",
      "  0     0.2   0.4    -0.2 \n",
      "  0     0.2   0.4    0.0  \n",
      "  0     0.2   0.4    0.2  \n",
      "  0     0.2   0.6    -0.4 \n",
      "  0     0.2   0.6    -0.2 \n",
      "  0     0.2   0.6    0.0  \n",
      "  0     0.2   0.6    0.2  \n",
      "  0     0.2   0.8    -0.2 \n",
      "  0     0.2   0.8    0.0  \n",
      "  0     0.3   -1.0   -0.2 \n",
      "  0     0.3   -1.0   0.0  \n",
      "  0     0.3   -0.8   -0.2 \n",
      "  0     0.3   -0.8   0.0  \n",
      "  0     0.3   -0.6   -0.2 \n",
      "  0     0.3   -0.6   0.0  \n",
      "  0     0.3   -0.6   0.2  \n",
      "  0     0.3   -0.4   -0.2 \n",
      "  0     0.3   -0.4   0.0  \n",
      "  0     0.3   -0.4   0.2  \n",
      "  0     0.3   -0.2   -0.4 \n",
      "  0     0.3   -0.2   -0.2 \n",
      "  0     0.3   -0.2   0.0  \n",
      "  0     0.3   -0.2   0.2  \n",
      "  0     0.3   0.0    -0.4 \n",
      "  0     0.3   0.0    -0.2 \n",
      "  0     0.3   0.0    0.0  \n",
      "  0     0.3   0.2    -0.4 \n",
      "  0     0.3   0.2    -0.2 \n",
      "  0     0.3   0.2    0.0  \n",
      "  0     0.3   0.4    -0.4 \n",
      "  0     0.3   0.4    -0.2 \n",
      "  0     0.3   0.4    0.0  \n",
      "  0     0.3   0.4    0.2  \n",
      "  0     0.3   0.6    -0.4 \n",
      "  0     0.3   0.6    -0.2 \n",
      "  0     0.3   0.6    0.0  \n",
      "  0     0.3   0.6    0.2  \n",
      "  0     0.3   0.8    -0.2 \n",
      "  0     0.3   0.8    0.0  \n",
      "  0     0.4   -1.0   -0.2 \n",
      "  0     0.4   -1.0   0.0  \n",
      "  0     0.4   -0.8   -0.2 \n",
      "  0     0.4   -0.8   0.0  \n",
      "  0     0.4   -0.6   -0.2 \n",
      "  0     0.4   -0.6   0.0  \n",
      "  0     0.4   -0.4   -0.2 \n",
      "  0     0.4   -0.4   0.0  \n",
      "  0     0.4   -0.2   -0.4 \n",
      "  0     0.4   -0.2   -0.2 \n",
      "  0     0.4   -0.2   0.0  \n",
      "  0     0.4   0.0    -0.2 \n",
      "  0     0.4   0.0    0.0  \n",
      "  0     0.4   0.2    -0.2 \n",
      "  0     0.4   0.2    0.0  \n",
      "  0     0.4   0.4    -0.2 \n",
      "  0     0.4   0.4    0.0  \n",
      "  0     0.4   0.6    -0.2 \n",
      "  0     0.4   0.6    0.0  \n",
      "  0     0.4   0.8    -0.2 \n",
      "  0     0.4   0.8    0.0  \n",
      "  0     0.5   -1.0   -0.2 \n",
      "  0     0.5   -1.0   0.0  \n",
      "  0     0.5   -0.8   -0.2 \n",
      "  0     0.5   -0.8   0.0  \n",
      "  0     0.5   -0.6   -0.2 \n",
      "  0     0.5   -0.6   0.0  \n",
      "  0     0.5   -0.4   -0.2 \n",
      "  0     0.5   -0.4   0.0  \n",
      "  0     0.5   -0.2   -0.2 \n",
      "  0     0.5   -0.2   0.0  \n",
      "  0     0.5   0.0    -0.2 \n",
      "  0     0.5   0.0    0.0  \n",
      "  0     0.5   0.2    -0.2 \n",
      "  0     0.5   0.2    0.0  \n",
      "  0     0.5   0.4    -0.2 \n",
      "  0     0.5   0.4    0.0  \n",
      "  0     0.5   0.4    0.2  \n",
      "  0     0.5   0.6    -0.2 \n",
      "  0     0.5   0.6    0.0  \n",
      "  0     0.5   0.8    -0.2 \n",
      "  0     0.5   0.8    0.0  \n",
      "  0     0.6   -1.0   -0.2 \n",
      "  0     0.6   -1.0   0.0  \n",
      "  0     0.6   -0.8   -0.2 \n",
      "  0     0.6   -0.8   0.0  \n",
      "  0     0.6   -0.6   -0.2 \n",
      "  0     0.6   -0.6   0.0  \n",
      "  0     0.6   -0.6   0.2  \n",
      "  0     0.6   -0.4   -0.4 \n",
      "  0     0.6   -0.4   -0.2 \n",
      "  0     0.6   -0.4   0.0  \n"
     ]
    }
   ],
   "source": [
    "with_stats = np.argwhere(statsarray != 0)\n",
    "\n",
    "print(\"  r  | dphi | thpos | thdir\")\n",
    "for i in with_stats:\n",
    "    r   = str(round(    rbins[i[0]]   )).ljust(3).rjust(5)\n",
    "    dp  = str(round( dphibins[i[1]], 2)).ljust(3).rjust(5)\n",
    "    thp = str(round(thposbins[i[2]], 2)).ljust(4).rjust(6)\n",
    "    thd = str(round(thdirbins[i[3]], 2)).ljust(5).rjust(7)\n",
    "    print(r, dp, thp, thd)"
   ]
  },
  {
   "cell_type": "code",
   "execution_count": null,
   "metadata": {},
   "outputs": [],
   "source": []
  },
  {
   "cell_type": "code",
   "execution_count": null,
   "metadata": {},
   "outputs": [],
   "source": []
  },
  {
   "cell_type": "code",
   "execution_count": null,
   "metadata": {},
   "outputs": [],
   "source": []
  },
  {
   "cell_type": "code",
   "execution_count": null,
   "metadata": {},
   "outputs": [],
   "source": []
  },
  {
   "cell_type": "code",
   "execution_count": null,
   "metadata": {},
   "outputs": [],
   "source": []
  },
  {
   "cell_type": "code",
   "execution_count": 7,
   "metadata": {},
   "outputs": [
    {
     "name": "stdout",
     "output_type": "stream",
     "text": [
      "Processing file 1000/1000\r"
     ]
    }
   ],
   "source": [
    "rbini     = -2\n",
    "dphibini  = np.random.randint(len(dphibins) -1)\n",
    "thposbini = np.random.randint(len(thposbins)-1)\n",
    "thdirbini = np.random.randint(len(thdirbins)-1)\n",
    "\n",
    "Nmax = 10\n",
    "\n",
    "nentries = 0\n",
    "for i, filename in enumerate(filenames, 1):\n",
    "    \n",
    "    print(f\"Processing file {i}/{len(filenames)}\", end=\"\\r\")\n",
    "\n",
    "    with tb.open_file(filename) as f:\n",
    "        stats   = f.root.stats\n",
    "        charges = f.root.charges\n",
    "\n",
    "        n  = stats[rbini, dphibini, thposbini, thdirbini]\n",
    "        nentries += n\n",
    "        qs = charges[rbini, dphibini, thposbini, thdirbini]\n",
    "        # qs = qs[:n]\n",
    "\n",
    "    if (nentries == 0)&(nentries >= Nmax):\n",
    "        break"
   ]
  },
  {
   "cell_type": "code",
   "execution_count": null,
   "metadata": {},
   "outputs": [],
   "source": []
  },
  {
   "cell_type": "code",
   "execution_count": null,
   "metadata": {},
   "outputs": [],
   "source": []
  },
  {
   "cell_type": "code",
   "execution_count": null,
   "metadata": {},
   "outputs": [],
   "source": []
  },
  {
   "cell_type": "code",
   "execution_count": 24,
   "metadata": {},
   "outputs": [
    {
     "data": {
      "application/vnd.jupyter.widget-view+json": {
       "model_id": "00d32599571e49e885407eec9600d1ad",
       "version_major": 2,
       "version_minor": 0
      },
      "image/png": "[encoded data removed]",
      "text/html": [
       "\n",
       "            <div style=\"display: inline-block;\">\n",
       "                <div class=\"jupyter-widgets widget-label\" style=\"text-align: center;\">\n",
       "                    Figure\n",
       "                </div>\n",
       "                <img src='data:image/png;base64,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' width=500.0/>\n",
       "            </div>\n",
       "        "
      ],
      "text/plain": [
       "Canvas(toolbar=Toolbar(toolitems=[('Home', 'Reset original view', 'home', 'home'), ('Back', 'Back to previous …"
      ]
     },
     "metadata": {},
     "output_type": "display_data"
    }
   ],
   "source": [
    "# choose a bin and get charges\n",
    "# rbini   = np.random.randint(len(rbins)-1)\n",
    "rbini     = -2\n",
    "dphibini  = np.random.randint(len(dphibins) -1)\n",
    "thposbini = np.random.randint(len(thposbins)-1)\n",
    "thdirbini = np.random.randint(len(thdirbins)-1)\n",
    "\n",
    "with tb.open_file(filenames[0]) as f:\n",
    "    stats     = f.root.stats    .read()\n",
    "    charges   = f.root.charges\n",
    "    qs = charges[rbini, dphibini, thposbini, thdirbini]\n",
    "\n",
    "plt.figure(figsize=[5, 3])\n",
    "plt.title(rf\"r={rbins[rbini]}, $\\Delta\\phi$={round(dphibins[dphibini],2)}, $\\theta$={round(thposbins[thposbini],2)}, $\\theta'$={round(thdirbins[thdirbini],2)}\")\n",
    "\n",
    "plt.hist(qs, bins=np.linspace(0, 10., 100), histtype=\"step\")\n",
    "\n",
    "plt.tight_layout()"
   ]
  },
  {
   "cell_type": "code",
   "execution_count": null,
   "metadata": {},
   "outputs": [],
   "source": []
  },
  {
   "cell_type": "code",
   "execution_count": null,
   "metadata": {},
   "outputs": [],
   "source": []
  },
  {
   "cell_type": "code",
   "execution_count": null,
   "metadata": {},
   "outputs": [],
   "source": []
  },
  {
   "cell_type": "code",
   "execution_count": null,
   "metadata": {},
   "outputs": [],
   "source": []
  },
  {
   "cell_type": "code",
   "execution_count": null,
   "metadata": {},
   "outputs": [],
   "source": []
  },
  {
   "cell_type": "code",
   "execution_count": 3,
   "metadata": {},
   "outputs": [
    {
     "ename": "HDF5ExtError",
     "evalue": "HDF5 error back trace\n\n  File \"H5F.c\", line 836, in H5Fopen\n    unable to synchronously open file\n  File \"H5F.c\", line 796, in H5F__open_api_common\n    unable to open file\n  File \"H5VLcallback.c\", line 3863, in H5VL_file_open\n    open failed\n  File \"H5VLcallback.c\", line 3675, in H5VL__file_open\n    open failed\n  File \"H5VLnative_file.c\", line 128, in H5VL__native_file_open\n    unable to open file\n  File \"H5Fint.c\", line 2027, in H5F_open\n    unable to read root group\n  File \"H5Groot.c\", line 219, in H5G_mkroot\n    can't check if symbol table message exists\n  File \"H5Omessage.c\", line 789, in H5O_msg_exists\n    unable to protect object header\n  File \"H5Oint.c\", line 1002, in H5O_protect\n    unable to load object header\n  File \"H5AC.c\", line 1277, in H5AC_protect\n    H5C_protect() failed\n  File \"H5Centry.c\", line 3125, in H5C_protect\n    can't load entry\n  File \"H5Centry.c\", line 1189, in H5C__load_entry\n    incorrect metadata checksum after all read attempts\n  File \"H5Ocache.c\", line 187, in H5O__cache_get_final_load_size\n    can't deserialize object header prefix\n  File \"H5Ocache.c\", line 1100, in H5O__prefix_deserialize\n    bad object header version number\n\nEnd of HDF5 error back trace\n\nUnable to open/create file '/pbs/home/g/gdiazlop/Software/WCSimFQTuningTools/LUTable/charge_distributions_200.0.h5'",
     "output_type": "error",
     "traceback": [
      "\u001b[0;31m---------------------------------------------------------------------------\u001b[0m",
      "\u001b[0;31mHDF5ExtError\u001b[0m                              Traceback (most recent call last)",
      "Cell \u001b[0;32mIn[3], line 2\u001b[0m\n\u001b[1;32m      1\u001b[0m filename \u001b[38;5;241m=\u001b[39m expandvars(\u001b[38;5;124m\"\u001b[39m\u001b[38;5;124m$HOME/Software/WCSimFQTuningTools/LUTable/charge_distributions_200.0.h5\u001b[39m\u001b[38;5;124m\"\u001b[39m)\n\u001b[0;32m----> 2\u001b[0m f \u001b[38;5;241m=\u001b[39m \u001b[43mtb\u001b[49m\u001b[38;5;241;43m.\u001b[39;49m\u001b[43mopen_file\u001b[49m\u001b[43m(\u001b[49m\u001b[43mfilename\u001b[49m\u001b[43m)\u001b[49m\n\u001b[1;32m      4\u001b[0m rbins     \u001b[38;5;241m=\u001b[39m f\u001b[38;5;241m.\u001b[39mroot\u001b[38;5;241m.\u001b[39mrbins    \u001b[38;5;241m.\u001b[39mread()\n\u001b[1;32m      5\u001b[0m dphibins  \u001b[38;5;241m=\u001b[39m f\u001b[38;5;241m.\u001b[39mroot\u001b[38;5;241m.\u001b[39mdphibins \u001b[38;5;241m.\u001b[39mread()\n",
      "File \u001b[0;32m~/.mamba/envs/hk/lib/python3.10/site-packages/tables/file.py:294\u001b[0m, in \u001b[0;36mopen_file\u001b[0;34m(filename, mode, title, root_uep, filters, **kwargs)\u001b[0m\n\u001b[1;32m    289\u001b[0m             \u001b[38;5;28;01mraise\u001b[39;00m \u001b[38;5;167;01mValueError\u001b[39;00m(\n\u001b[1;32m    290\u001b[0m                 \u001b[38;5;124m\"\u001b[39m\u001b[38;5;124mThe file \u001b[39m\u001b[38;5;124m'\u001b[39m\u001b[38;5;132;01m%s\u001b[39;00m\u001b[38;5;124m'\u001b[39m\u001b[38;5;124m is already opened.  Please \u001b[39m\u001b[38;5;124m\"\u001b[39m\n\u001b[1;32m    291\u001b[0m                 \u001b[38;5;124m\"\u001b[39m\u001b[38;5;124mclose it before reopening in write mode.\u001b[39m\u001b[38;5;124m\"\u001b[39m \u001b[38;5;241m%\u001b[39m filename)\n\u001b[1;32m    293\u001b[0m \u001b[38;5;66;03m# Finally, create the File instance, and return it\u001b[39;00m\n\u001b[0;32m--> 294\u001b[0m \u001b[38;5;28;01mreturn\u001b[39;00m \u001b[43mFile\u001b[49m\u001b[43m(\u001b[49m\u001b[43mfilename\u001b[49m\u001b[43m,\u001b[49m\u001b[43m \u001b[49m\u001b[43mmode\u001b[49m\u001b[43m,\u001b[49m\u001b[43m \u001b[49m\u001b[43mtitle\u001b[49m\u001b[43m,\u001b[49m\u001b[43m \u001b[49m\u001b[43mroot_uep\u001b[49m\u001b[43m,\u001b[49m\u001b[43m \u001b[49m\u001b[43mfilters\u001b[49m\u001b[43m,\u001b[49m\u001b[43m \u001b[49m\u001b[38;5;241;43m*\u001b[39;49m\u001b[38;5;241;43m*\u001b[39;49m\u001b[43mkwargs\u001b[49m\u001b[43m)\u001b[49m\n",
      "File \u001b[0;32m~/.mamba/envs/hk/lib/python3.10/site-packages/tables/file.py:744\u001b[0m, in \u001b[0;36mFile.__init__\u001b[0;34m(self, filename, mode, title, root_uep, filters, **kwargs)\u001b[0m\n\u001b[1;32m    741\u001b[0m \u001b[38;5;28mself\u001b[39m\u001b[38;5;241m.\u001b[39mparams \u001b[38;5;241m=\u001b[39m params\n\u001b[1;32m    743\u001b[0m \u001b[38;5;66;03m# Now, it is time to initialize the File extension\u001b[39;00m\n\u001b[0;32m--> 744\u001b[0m \u001b[38;5;28;43mself\u001b[39;49m\u001b[38;5;241;43m.\u001b[39;49m\u001b[43m_g_new\u001b[49m\u001b[43m(\u001b[49m\u001b[43mfilename\u001b[49m\u001b[43m,\u001b[49m\u001b[43m \u001b[49m\u001b[43mmode\u001b[49m\u001b[43m,\u001b[49m\u001b[43m \u001b[49m\u001b[38;5;241;43m*\u001b[39;49m\u001b[38;5;241;43m*\u001b[39;49m\u001b[43mparams\u001b[49m\u001b[43m)\u001b[49m\n\u001b[1;32m    746\u001b[0m \u001b[38;5;66;03m# Check filters and set PyTables format version for new files.\u001b[39;00m\n\u001b[1;32m    747\u001b[0m new \u001b[38;5;241m=\u001b[39m \u001b[38;5;28mself\u001b[39m\u001b[38;5;241m.\u001b[39m_v_new\n",
      "File \u001b[0;32m~/.mamba/envs/hk/lib/python3.10/site-packages/tables/hdf5extension.pyx:512\u001b[0m, in \u001b[0;36mtables.hdf5extension.File._g_new\u001b[0;34m()\u001b[0m\n",
      "\u001b[0;31mHDF5ExtError\u001b[0m: HDF5 error back trace\n\n  File \"H5F.c\", line 836, in H5Fopen\n    unable to synchronously open file\n  File \"H5F.c\", line 796, in H5F__open_api_common\n    unable to open file\n  File \"H5VLcallback.c\", line 3863, in H5VL_file_open\n    open failed\n  File \"H5VLcallback.c\", line 3675, in H5VL__file_open\n    open failed\n  File \"H5VLnative_file.c\", line 128, in H5VL__native_file_open\n    unable to open file\n  File \"H5Fint.c\", line 2027, in H5F_open\n    unable to read root group\n  File \"H5Groot.c\", line 219, in H5G_mkroot\n    can't check if symbol table message exists\n  File \"H5Omessage.c\", line 789, in H5O_msg_exists\n    unable to protect object header\n  File \"H5Oint.c\", line 1002, in H5O_protect\n    unable to load object header\n  File \"H5AC.c\", line 1277, in H5AC_protect\n    H5C_protect() failed\n  File \"H5Centry.c\", line 3125, in H5C_protect\n    can't load entry\n  File \"H5Centry.c\", line 1189, in H5C__load_entry\n    incorrect metadata checksum after all read attempts\n  File \"H5Ocache.c\", line 187, in H5O__cache_get_final_load_size\n    can't deserialize object header prefix\n  File \"H5Ocache.c\", line 1100, in H5O__prefix_deserialize\n    bad object header version number\n\nEnd of HDF5 error back trace\n\nUnable to open/create file '/pbs/home/g/gdiazlop/Software/WCSimFQTuningTools/LUTable/charge_distributions_200.0.h5'"
     ]
    }
   ],
   "source": [
    "filename = expandvars(\"$HOME/Software/WCSimFQTuningTools/LUTable/charge_distributions_200.0.h5\")\n",
    "f = tb.open_file(filename)\n",
    "\n",
    "rbins     = f.root.rbins    .read()\n",
    "dphibins  = f.root.dphibins .read()\n",
    "thposbins = f.root.thposbins.read()\n",
    "thdirbins = f.root.thdirbins.read()\n",
    "stats     = f.root.stats    .read()\n",
    "charges   = f.root.charges"
   ]
  },
  {
   "cell_type": "code",
   "execution_count": 47,
   "metadata": {},
   "outputs": [
    {
     "data": {
      "application/vnd.jupyter.widget-view+json": {
       "model_id": "7089a3aa8a9145e58fd2d545535b998c",
       "version_major": 2,
       "version_minor": 0
      },
      "image/png": "[encoded data removed]",
      "text/html": [
       "\n",
       "            <div style=\"display: inline-block;\">\n",
       "                <div class=\"jupyter-widgets widget-label\" style=\"text-align: center;\">\n",
       "                    Figure\n",
       "                </div>\n",
       "                <img src='data:image/png;base64,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' width=500.0/>\n",
       "            </div>\n",
       "        "
      ],
      "text/plain": [
       "Canvas(toolbar=Toolbar(toolitems=[('Home', 'Reset original view', 'home', 'home'), ('Back', 'Back to previous …"
      ]
     },
     "metadata": {},
     "output_type": "display_data"
    }
   ],
   "source": [
    "# choose a bin and get charges\n",
    "# rbini   = np.random.randint(len(rbins)-1)\n",
    "rbini     = -2\n",
    "dphibini  = np.random.randint(len(dphibins) -1)\n",
    "thposbini = np.random.randint(len(thposbins)-1)\n",
    "thdirbini = np.random.randint(len(thdirbins)-1)\n",
    "\n",
    "qs = charges[rbini, dphibini, thposbini, thdirbini]\n",
    "\n",
    "plt.figure(figsize=[5, 3])\n",
    "plt.title(rf\"r={rbins[rbini]}, $\\Delta\\phi$={round(dphibins[dphibini],2)}, $\\theta$={round(thposbins[thposbini],2)}, $\\theta'$={round(thdirbins[thdirbini],2)}\")\n",
    "\n",
    "plt.hist(qs, bins=np.linspace(0, 10., 100), histtype=\"step\")\n",
    "\n",
    "plt.tight_layout()"
   ]
  },
  {
   "cell_type": "code",
   "execution_count": 11,
   "metadata": {},
   "outputs": [
    {
     "name": "stdout",
     "output_type": "stream",
     "text": [
      "[  10   89  252  483  805 1083 1471 1926 2118 2263]\n"
     ]
    },
    {
     "data": {
      "text/plain": [
       "array([  0.,  20.,  40.,  60.,  80., 100., 120., 140., 160., 180., 200.])"
      ]
     },
     "execution_count": 11,
     "metadata": {},
     "output_type": "execute_result"
    }
   ],
   "source": [
    "print(stats.sum(axis=(1, 2, 3)))\n",
    "rbins"
   ]
  },
  {
   "cell_type": "code",
   "execution_count": 59,
   "metadata": {},
   "outputs": [
    {
     "name": "stdout",
     "output_type": "stream",
     "text": [
      "1.1053\n"
     ]
    }
   ],
   "source": [
    "N = np.prod(stats.shape)\n",
    "n = np.sum(stats)\n",
    "\n",
    "print(n/N)"
   ]
  },
  {
   "cell_type": "code",
   "execution_count": 21,
   "metadata": {},
   "outputs": [
    {
     "data": {
      "text/plain": [
       "2.5"
      ]
     },
     "execution_count": 21,
     "metadata": {},
     "output_type": "execute_result"
    }
   ],
   "source": [
    "1000 / 10 / 10 / 2 / 2"
   ]
  },
  {
   "cell_type": "code",
   "execution_count": null,
   "metadata": {},
   "outputs": [],
   "source": [
    "K = np.sqrt(p**2 + m**2) - m"
   ]
  },
  {
   "cell_type": "code",
   "execution_count": null,
   "metadata": {},
   "outputs": [],
   "source": []
  }
 ],
 "metadata": {
  "kernelspec": {
   "display_name": "Python 3 (ipykernel)",
   "language": "python",
   "name": "python3"
  }
 },
 "nbformat": 4,
 "nbformat_minor": 2
}
