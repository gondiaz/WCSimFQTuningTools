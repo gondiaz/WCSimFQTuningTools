{
 "cells": [
  {
   "cell_type": "code",
   "execution_count": 1,
   "metadata": {},
   "outputs": [],
   "source": [
    "import os\n",
    "import re\n",
    "import glob\n",
    "import numpy  as np\n",
    "import pandas as pd\n",
    "\n",
    "from os.path import expandvars, join, basename\n",
    "\n",
    "import matplotlib.pyplot as plt\n",
    "from matplotlib.ticker import AutoMinorLocator\n",
    "%matplotlib widget"
   ]
  },
  {
   "cell_type": "code",
   "execution_count": 2,
   "metadata": {},
   "outputs": [],
   "source": [
    "def read_mctrue(filename):\n",
    "    tracks = wcr.read_table(filename, \"/wcsimT/Tracks\")\n",
    "\n",
    "    selcols = (\"Start_x0\", \"Start_x1\", \"Start_x2\", \"Time\", \"Dir_x0\", \"Dir_x1\", \"Dir_x2\", \"P\", \"StopVol\")\n",
    "    \n",
    "    # read parent particles\n",
    "    df = tracks.loc[(tracks.Parenttype == 0) & (tracks.Flag == 0) & (tracks.Id == 1), selcols]\n",
    "\n",
    "    # compute direction angles\n",
    "    columns = (\"x\", \"y\", \"z\", \"t\", \"theta\", \"phi\", \"p\", \"StopVol\")\n",
    "    x = df[\"Dir_x0\"].values\n",
    "    y = df[\"Dir_x1\"].values\n",
    "    z = df[\"Dir_x2\"].values\n",
    "    theta = np.arccos(z)\n",
    "    phi   = np.arctan2(y, x)\n",
    "    phi[(np.sign(phi)<0)] += 2.*np.pi\n",
    "\n",
    "    df1 = pd.DataFrame(dict(zip( columns\n",
    "                               , [*df.loc[:, selcols[:4]].values.T\n",
    "                               , theta, phi\n",
    "                               , df.loc[:, \"P\"].values, df.loc[:, \"StopVol\"].values])))\n",
    "    return df1"
   ]
  },
  {
   "cell_type": "code",
   "execution_count": 5,
   "metadata": {},
   "outputs": [
    {
     "ename": "UnicodeDecodeError",
     "evalue": "'utf-8' codec can't decode byte 0xf5 in position 6: invalid start byte",
     "output_type": "error",
     "traceback": [
      "\u001b[0;31m---------------------------------------------------------------------------\u001b[0m",
      "\u001b[0;31mUnicodeDecodeError\u001b[0m                        Traceback (most recent call last)",
      "Cell \u001b[0;32mIn[5], line 8\u001b[0m\n\u001b[1;32m      6\u001b[0m \u001b[38;5;28;01mfor\u001b[39;00m filename \u001b[38;5;129;01min\u001b[39;00m filenames:\n\u001b[1;32m      7\u001b[0m     momentum \u001b[38;5;241m=\u001b[39m \u001b[38;5;28mfloat\u001b[39m(re\u001b[38;5;241m.\u001b[39mfindall(\u001b[38;5;124mr\u001b[39m\u001b[38;5;124m'\u001b[39m\u001b[38;5;124m\\\u001b[39m\u001b[38;5;124md+(?:\u001b[39m\u001b[38;5;124m\\\u001b[39m\u001b[38;5;124m.\u001b[39m\u001b[38;5;124m\\\u001b[39m\u001b[38;5;124md+)?\u001b[39m\u001b[38;5;124m'\u001b[39m, basename(filename))[\u001b[38;5;241m0\u001b[39m])\n\u001b[0;32m----> 8\u001b[0m     fitqun[momentum] \u001b[38;5;241m=\u001b[39m \u001b[43mpd\u001b[49m\u001b[38;5;241;43m.\u001b[39;49m\u001b[43mread_csv\u001b[49m\u001b[43m(\u001b[49m\u001b[43mfilename\u001b[49m\u001b[43m)\u001b[49m\n",
      "File \u001b[0;32m~/.mamba/envs/hk/lib/python3.10/site-packages/pandas/io/parsers/readers.py:948\u001b[0m, in \u001b[0;36mread_csv\u001b[0;34m(filepath_or_buffer, sep, delimiter, header, names, index_col, usecols, dtype, engine, converters, true_values, false_values, skipinitialspace, skiprows, skipfooter, nrows, na_values, keep_default_na, na_filter, verbose, skip_blank_lines, parse_dates, infer_datetime_format, keep_date_col, date_parser, date_format, dayfirst, cache_dates, iterator, chunksize, compression, thousands, decimal, lineterminator, quotechar, quoting, doublequote, escapechar, comment, encoding, encoding_errors, dialect, on_bad_lines, delim_whitespace, low_memory, memory_map, float_precision, storage_options, dtype_backend)\u001b[0m\n\u001b[1;32m    935\u001b[0m kwds_defaults \u001b[38;5;241m=\u001b[39m _refine_defaults_read(\n\u001b[1;32m    936\u001b[0m     dialect,\n\u001b[1;32m    937\u001b[0m     delimiter,\n\u001b[0;32m   (...)\u001b[0m\n\u001b[1;32m    944\u001b[0m     dtype_backend\u001b[38;5;241m=\u001b[39mdtype_backend,\n\u001b[1;32m    945\u001b[0m )\n\u001b[1;32m    946\u001b[0m kwds\u001b[38;5;241m.\u001b[39mupdate(kwds_defaults)\n\u001b[0;32m--> 948\u001b[0m \u001b[38;5;28;01mreturn\u001b[39;00m \u001b[43m_read\u001b[49m\u001b[43m(\u001b[49m\u001b[43mfilepath_or_buffer\u001b[49m\u001b[43m,\u001b[49m\u001b[43m \u001b[49m\u001b[43mkwds\u001b[49m\u001b[43m)\u001b[49m\n",
      "File \u001b[0;32m~/.mamba/envs/hk/lib/python3.10/site-packages/pandas/io/parsers/readers.py:611\u001b[0m, in \u001b[0;36m_read\u001b[0;34m(filepath_or_buffer, kwds)\u001b[0m\n\u001b[1;32m    608\u001b[0m _validate_names(kwds\u001b[38;5;241m.\u001b[39mget(\u001b[38;5;124m\"\u001b[39m\u001b[38;5;124mnames\u001b[39m\u001b[38;5;124m\"\u001b[39m, \u001b[38;5;28;01mNone\u001b[39;00m))\n\u001b[1;32m    610\u001b[0m \u001b[38;5;66;03m# Create the parser.\u001b[39;00m\n\u001b[0;32m--> 611\u001b[0m parser \u001b[38;5;241m=\u001b[39m \u001b[43mTextFileReader\u001b[49m\u001b[43m(\u001b[49m\u001b[43mfilepath_or_buffer\u001b[49m\u001b[43m,\u001b[49m\u001b[43m \u001b[49m\u001b[38;5;241;43m*\u001b[39;49m\u001b[38;5;241;43m*\u001b[39;49m\u001b[43mkwds\u001b[49m\u001b[43m)\u001b[49m\n\u001b[1;32m    613\u001b[0m \u001b[38;5;28;01mif\u001b[39;00m chunksize \u001b[38;5;129;01mor\u001b[39;00m iterator:\n\u001b[1;32m    614\u001b[0m     \u001b[38;5;28;01mreturn\u001b[39;00m parser\n",
      "File \u001b[0;32m~/.mamba/envs/hk/lib/python3.10/site-packages/pandas/io/parsers/readers.py:1448\u001b[0m, in \u001b[0;36mTextFileReader.__init__\u001b[0;34m(self, f, engine, **kwds)\u001b[0m\n\u001b[1;32m   1445\u001b[0m     \u001b[38;5;28mself\u001b[39m\u001b[38;5;241m.\u001b[39moptions[\u001b[38;5;124m\"\u001b[39m\u001b[38;5;124mhas_index_names\u001b[39m\u001b[38;5;124m\"\u001b[39m] \u001b[38;5;241m=\u001b[39m kwds[\u001b[38;5;124m\"\u001b[39m\u001b[38;5;124mhas_index_names\u001b[39m\u001b[38;5;124m\"\u001b[39m]\n\u001b[1;32m   1447\u001b[0m \u001b[38;5;28mself\u001b[39m\u001b[38;5;241m.\u001b[39mhandles: IOHandles \u001b[38;5;241m|\u001b[39m \u001b[38;5;28;01mNone\u001b[39;00m \u001b[38;5;241m=\u001b[39m \u001b[38;5;28;01mNone\u001b[39;00m\n\u001b[0;32m-> 1448\u001b[0m \u001b[38;5;28mself\u001b[39m\u001b[38;5;241m.\u001b[39m_engine \u001b[38;5;241m=\u001b[39m \u001b[38;5;28;43mself\u001b[39;49m\u001b[38;5;241;43m.\u001b[39;49m\u001b[43m_make_engine\u001b[49m\u001b[43m(\u001b[49m\u001b[43mf\u001b[49m\u001b[43m,\u001b[49m\u001b[43m \u001b[49m\u001b[38;5;28;43mself\u001b[39;49m\u001b[38;5;241;43m.\u001b[39;49m\u001b[43mengine\u001b[49m\u001b[43m)\u001b[49m\n",
      "File \u001b[0;32m~/.mamba/envs/hk/lib/python3.10/site-packages/pandas/io/parsers/readers.py:1723\u001b[0m, in \u001b[0;36mTextFileReader._make_engine\u001b[0;34m(self, f, engine)\u001b[0m\n\u001b[1;32m   1720\u001b[0m     \u001b[38;5;28;01mraise\u001b[39;00m \u001b[38;5;167;01mValueError\u001b[39;00m(msg)\n\u001b[1;32m   1722\u001b[0m \u001b[38;5;28;01mtry\u001b[39;00m:\n\u001b[0;32m-> 1723\u001b[0m     \u001b[38;5;28;01mreturn\u001b[39;00m \u001b[43mmapping\u001b[49m\u001b[43m[\u001b[49m\u001b[43mengine\u001b[49m\u001b[43m]\u001b[49m\u001b[43m(\u001b[49m\u001b[43mf\u001b[49m\u001b[43m,\u001b[49m\u001b[43m \u001b[49m\u001b[38;5;241;43m*\u001b[39;49m\u001b[38;5;241;43m*\u001b[39;49m\u001b[38;5;28;43mself\u001b[39;49m\u001b[38;5;241;43m.\u001b[39;49m\u001b[43moptions\u001b[49m\u001b[43m)\u001b[49m\n\u001b[1;32m   1724\u001b[0m \u001b[38;5;28;01mexcept\u001b[39;00m \u001b[38;5;167;01mException\u001b[39;00m:\n\u001b[1;32m   1725\u001b[0m     \u001b[38;5;28;01mif\u001b[39;00m \u001b[38;5;28mself\u001b[39m\u001b[38;5;241m.\u001b[39mhandles \u001b[38;5;129;01mis\u001b[39;00m \u001b[38;5;129;01mnot\u001b[39;00m \u001b[38;5;28;01mNone\u001b[39;00m:\n",
      "File \u001b[0;32m~/.mamba/envs/hk/lib/python3.10/site-packages/pandas/io/parsers/c_parser_wrapper.py:93\u001b[0m, in \u001b[0;36mCParserWrapper.__init__\u001b[0;34m(self, src, **kwds)\u001b[0m\n\u001b[1;32m     90\u001b[0m \u001b[38;5;28;01mif\u001b[39;00m kwds[\u001b[38;5;124m\"\u001b[39m\u001b[38;5;124mdtype_backend\u001b[39m\u001b[38;5;124m\"\u001b[39m] \u001b[38;5;241m==\u001b[39m \u001b[38;5;124m\"\u001b[39m\u001b[38;5;124mpyarrow\u001b[39m\u001b[38;5;124m\"\u001b[39m:\n\u001b[1;32m     91\u001b[0m     \u001b[38;5;66;03m# Fail here loudly instead of in cython after reading\u001b[39;00m\n\u001b[1;32m     92\u001b[0m     import_optional_dependency(\u001b[38;5;124m\"\u001b[39m\u001b[38;5;124mpyarrow\u001b[39m\u001b[38;5;124m\"\u001b[39m)\n\u001b[0;32m---> 93\u001b[0m \u001b[38;5;28mself\u001b[39m\u001b[38;5;241m.\u001b[39m_reader \u001b[38;5;241m=\u001b[39m \u001b[43mparsers\u001b[49m\u001b[38;5;241;43m.\u001b[39;49m\u001b[43mTextReader\u001b[49m\u001b[43m(\u001b[49m\u001b[43msrc\u001b[49m\u001b[43m,\u001b[49m\u001b[43m \u001b[49m\u001b[38;5;241;43m*\u001b[39;49m\u001b[38;5;241;43m*\u001b[39;49m\u001b[43mkwds\u001b[49m\u001b[43m)\u001b[49m\n\u001b[1;32m     95\u001b[0m \u001b[38;5;28mself\u001b[39m\u001b[38;5;241m.\u001b[39munnamed_cols \u001b[38;5;241m=\u001b[39m \u001b[38;5;28mself\u001b[39m\u001b[38;5;241m.\u001b[39m_reader\u001b[38;5;241m.\u001b[39munnamed_cols\n\u001b[1;32m     97\u001b[0m \u001b[38;5;66;03m# error: Cannot determine type of 'names'\u001b[39;00m\n",
      "File \u001b[0;32mparsers.pyx:579\u001b[0m, in \u001b[0;36mpandas._libs.parsers.TextReader.__cinit__\u001b[0;34m()\u001b[0m\n",
      "File \u001b[0;32mparsers.pyx:668\u001b[0m, in \u001b[0;36mpandas._libs.parsers.TextReader._get_header\u001b[0;34m()\u001b[0m\n",
      "File \u001b[0;32mparsers.pyx:879\u001b[0m, in \u001b[0;36mpandas._libs.parsers.TextReader._tokenize_rows\u001b[0;34m()\u001b[0m\n",
      "File \u001b[0;32mparsers.pyx:890\u001b[0m, in \u001b[0;36mpandas._libs.parsers.TextReader._check_tokenize_status\u001b[0;34m()\u001b[0m\n",
      "File \u001b[0;32mparsers.pyx:2050\u001b[0m, in \u001b[0;36mpandas._libs.parsers.raise_parser_error\u001b[0;34m()\u001b[0m\n",
      "\u001b[0;31mUnicodeDecodeError\u001b[0m: 'utf-8' codec can't decode byte 0xf5 in position 6: invalid start byte"
     ]
    }
   ],
   "source": [
    "indir = expandvars(\"$HOME/Software/WCSimFQTuningTools/fiTQun/local/\")\n",
    "\n",
    "filenames = glob.glob(join(indir, \"*\"))\n",
    "\n",
    "fitqun  = dict()\n",
    "for filename in filenames:\n",
    "    momentum = float(re.findall(r'\\d+(?:\\.\\d+)?', basename(filename))[0])\n",
    "    fitqun[momentum] = pd.read_csv(filename)"
   ]
  },
  {
   "cell_type": "code",
   "execution_count": null,
   "metadata": {},
   "outputs": [],
   "source": []
  },
  {
   "cell_type": "markdown",
   "metadata": {},
   "source": [
    "### PID"
   ]
  },
  {
   "cell_type": "code",
   "execution_count": 5,
   "metadata": {},
   "outputs": [],
   "source": [
    "pids = [(r\"$\\mu^-$\", 2), (r\"$\\pi^+$\", 3), (r\"$e^-$\", 1)]\n",
    "\n",
    "for momentum in sorted(fitqun.keys()):\n",
    "    fits = fitqun[momentum]\n",
    "    nll = fits.set_index(\"pid\").nll1R\n",
    "\n",
    "    plt.figure(figsize=[9, 2])\n",
    "\n",
    "    # -logL bare plot\n",
    "    plt.subplot(121)\n",
    "    bins = np.linspace(nll.median()*0.5, nll.median()*1.5, 100)\n",
    "    for particle, pid in pids:\n",
    "        h, _ = np.histogram(nll.loc[pid], bins=bins)\n",
    "        plt.stairs(h, bins, label=particle)\n",
    "    plt.xlabel(r\"$-\\log L$\")\n",
    "    plt.legend()\n",
    "\n",
    "    # quotient plot\n",
    "    plt.subplot(122)\n",
    "    bins = np.linspace(-1e3, 1.5e3, 200)\n",
    "    for particle, pid in pids[:-1]:\n",
    "        h, bins = np.histogram(-(nll.loc[1].values - nll.loc[pid].values), bins=bins)\n",
    "        plt.stairs(h, bins, label=particle)\n",
    "    plt.axvline(0, color=\"r\")\n",
    "    plt.xlabel(r\"$\\log ( L_{e^-}/L_{\\mu^-,\\pi^+})$\")\n",
    "    plt.legend()\n",
    "\n",
    "    plt.tight_layout()"
   ]
  },
  {
   "cell_type": "code",
   "execution_count": 57,
   "metadata": {},
   "outputs": [],
   "source": [
    "# # select only events with all reconstructed particles are PC\n",
    "# sel = fits.groupby(\"Event\").pc.sum() == 0\n",
    "\n",
    "# print(\"Momentum:\")\n",
    "# print(\"---------\")\n",
    "# print(\"FC efficiency \", sel.sum()/len(sel))\n",
    "# print()\n",
    "\n",
    "# fits = fits.set_index(\"Event\").loc[sel]\n",
    "# nll = fits.set_index(\"pid\").nll1R"
   ]
  },
  {
   "cell_type": "code",
   "execution_count": 58,
   "metadata": {},
   "outputs": [],
   "source": [
    "# # select only events with all reconstructed particles are PC\n",
    "# sel = fits.groupby(\"Event\").pc.sum() == 0\n",
    "\n",
    "# print(\"Momentum:\")\n",
    "# print(\"---------\")\n",
    "# print(\"FC efficiency \", sel.sum()/len(sel))\n",
    "# print()\n",
    "\n",
    "# fits = fits.set_index(\"Event\").loc[sel]\n",
    "# nll = fits.set_index(\"pid\").nll1R"
   ]
  },
  {
   "cell_type": "markdown",
   "metadata": {},
   "source": [
    "### Reconstruction"
   ]
  },
  {
   "cell_type": "code",
   "execution_count": 76,
   "metadata": {},
   "outputs": [],
   "source": [
    "pid = 1\n",
    "\n",
    "for momentum in sorted(fitqun.keys()):\n",
    "    fits = fitqun[momentum]\n",
    "\n",
    "    print(\"FC efficiency \", (fits[fits.pid == pid].pc == 0).sum()/len(fits[fits.pid == pid]))\n",
    "\n",
    "    plt.figure(figsize=[9, 2])\n",
    "    plt.subplot(121)\n",
    "\n",
    "    p = fits[(fits.pid == pid)&(fits.pc == 0)].p.values\n",
    "    p = fits[(fits.pid == pid)].p.values\n",
    "    plt.hist(p, bins=np.linspace(momentum*0.5, momentum*2., 100), histtype=\"step\", color=\"k\")\n",
    "    plt.axvline(momentum, color=\"r\")\n",
    "    plt.gca().xaxis.set_minor_locator(AutoMinorLocator(5))\n",
    "    plt.gca().tick_params(which='both', direction=\"in\", length=5)\n",
    "    plt.xlabel(\"p (MeV/c)\")\n",
    "\n",
    "    plt.subplot(122)\n",
    "    pull = (fits[(fits.pid == pid)&(fits.pc == 0)].p.values - momentum)/momentum\n",
    "    pull = (fits[(fits.pid == pid)].p.values - momentum)/momentum\n",
    "    plt.hist(pull, bins=np.linspace(-1, 1, 100), histtype=\"step\", color=\"k\")\n",
    "    plt.axvline(0, color=\"r\")\n",
    "    plt.gca().xaxis.set_minor_locator(AutoMinorLocator(5))\n",
    "    plt.gca().tick_params(which='both', direction=\"in\", length=5)\n",
    "    plt.xlabel(r\"$(p - p_{true})/p_{true}$\")\n",
    "\n",
    "    plt.tight_layout()"
   ]
  },
  {
   "cell_type": "code",
   "execution_count": 50,
   "metadata": {},
   "outputs": [
    {
     "name": "stdout",
     "output_type": "stream",
     "text": [
      "FC efficiency  0.8655\n",
      "FC efficiency  0.19488051194880512\n",
      "FC efficiency  0.04969006198760248\n"
     ]
    },
    {
     "data": {
      "image/png": "[encoded data removed]",
      "text/plain": [
       "<Figure size 900x200 with 1 Axes>"
      ]
     },
     "metadata": {},
     "output_type": "display_data"
    },
    {
     "data": {
      "image/png": "[encoded data removed]",
      "text/plain": [
       "<Figure size 900x200 with 1 Axes>"
      ]
     },
     "metadata": {},
     "output_type": "display_data"
    },
    {
     "data": {
      "image/png": "[encoded data removed]",
      "text/plain": [
       "<Figure size 900x200 with 1 Axes>"
      ]
     },
     "metadata": {},
     "output_type": "display_data"
    }
   ],
   "source": [
    "pid = 1\n",
    "\n",
    "for momentum in sorted(fitqun.keys()):\n",
    "    fits = fitqun[momentum]\n",
    "\n",
    "    print(\"FC efficiency \", (fits[fits.pid == pid].pc == 0).sum()/len(fits[fits.pid == pid]))\n",
    "\n",
    "    plt.figure(figsize=[9, 2])\n",
    "    plt.subplot(121)\n",
    "\n",
    "    df = fits[(fits.pid == pid)&(fits.pc == 0)]\n",
    "    df = fits[(fits.pid == pid)]\n",
    "    d = (df.x**2 + df.z**2)**0.5\n",
    "    plt.hist(d, bins=np.linspace(0, 100, 100), histtype=\"step\", color=\"k\")\n",
    "    plt.gca().xaxis.set_minor_locator(AutoMinorLocator(5))\n",
    "    plt.gca().tick_params(which='both', direction=\"in\", length=5)\n",
    "    plt.xlabel(\"distance (cm)\")\n",
    "\n",
    "    plt.tight_layout()"
   ]
  },
  {
   "cell_type": "code",
   "execution_count": null,
   "metadata": {},
   "outputs": [],
   "source": []
  },
  {
   "cell_type": "code",
   "execution_count": null,
   "metadata": {},
   "outputs": [],
   "source": []
  },
  {
   "cell_type": "code",
   "execution_count": null,
   "metadata": {},
   "outputs": [],
   "source": []
  }
 ],
 "metadata": {
  "kernelspec": {
   "display_name": "Python 3 (ipykernel)",
   "language": "python",
   "name": "python3"
  },
  "language_info": {
   "codemirror_mode": {
    "name": "ipython",
    "version": 3
   },
   "file_extension": ".py",
   "mimetype": "text/x-python",
   "name": "python",
   "nbconvert_exporter": "python",
   "pygments_lexer": "ipython3",
   "version": "3.10.13"
  }
 },
 "nbformat": 4,
 "nbformat_minor": 2
}
