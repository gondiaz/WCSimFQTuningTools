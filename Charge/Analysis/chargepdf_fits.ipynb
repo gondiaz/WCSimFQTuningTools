{
 "cells": [
  {
   "cell_type": "code",
   "execution_count": 1,
   "metadata": {},
   "outputs": [
    {
     "name": "stdout",
     "output_type": "stream",
     "text": [
      "Welcome to JupyROOT 6.28/11\n"
     ]
    },
    {
     "data": {
      "text/plain": [
       "0"
      ]
     },
     "execution_count": 1,
     "metadata": {},
     "output_type": "execute_result"
    }
   ],
   "source": [
    "import os\n",
    "import re\n",
    "import ctypes\n",
    "import uproot\n",
    "import numpy as np\n",
    "import matplotlib.pyplot as plt\n",
    "%matplotlib widget\n",
    "\n",
    "import ROOT\n",
    "ROOT.gSystem.Load(\"/pbs/home/g/gdiazlop/Software/fiTQun/install-Linux_x86_64-gcc_9-python_3.10.13/lib/libfiTQunLib.so\")"
   ]
  },
  {
   "cell_type": "code",
   "execution_count": 2,
   "metadata": {},
   "outputs": [],
   "source": [
    "def evaluate_logpdf(q, mus, npars):\n",
    "    # casting\n",
    "    npars = int(npars)\n",
    "\n",
    "    # values to be filled below\n",
    "    par      = np.zeros(npars)\n",
    "    muthr    = np.zeros(2)\n",
    "    coeff    = np.zeros(6)\n",
    "\n",
    "    # get parameters\n",
    "    ROOT.fQChrgPDF.Get().SetCPDFParams( q, 0, ctypes.c_int(npars), par, muthr, coeff)\n",
    "\n",
    "    # evaluate\n",
    "    logpdf = []\n",
    "    for mu in mus: logpdf.append(ROOT.fQChrgPDF.flogchrgPDF(mu, npars, par, muthr, coeff))\n",
    "    logpdf = np.array(logpdf)\n",
    "\n",
    "    return logpdf"
   ]
  },
  {
   "cell_type": "code",
   "execution_count": 3,
   "metadata": {},
   "outputs": [],
   "source": [
    "fname  = os.path.expandvars(\"$LUSTRE/Charge/tuning/fitted_cpdf.root\")\n",
    "f  = uproot.open(fname)\n",
    "f.classnames();"
   ]
  },
  {
   "cell_type": "code",
   "execution_count": 4,
   "metadata": {},
   "outputs": [],
   "source": [
    "# get qranges and nparameters\n",
    "nparams, qranges = f[\"hCPDFrange\"].to_numpy()\n",
    "nqranges = len(nparams)\n",
    "\n",
    "# get qbins\n",
    "_, _, qbins = f[\"charge2D\"].to_numpy()\n",
    "qs = (qbins[1:] + qbins [:-1])/2."
   ]
  },
  {
   "cell_type": "code",
   "execution_count": 5,
   "metadata": {},
   "outputs": [
    {
     "name": "stdout",
     "output_type": "stream",
     "text": [
      "Selected random Range = 0 and qbin = 75 corresponding to q =  32.5\n",
      "---------------------------------------\n",
      "fQChrgPDF: Loading parameters from /sps/t2k/gdiazlop//Charge/tuning/fitted_cpdf.root PMT type 0\n",
      "P_unhit coeff. for Type 0 PMT: c_n=[0.101847, 0.000004, 0.000624, ]\n"
     ]
    }
   ],
   "source": [
    "# select random range and bin\n",
    "rang = np.random.randint(nqranges)\n",
    "# random bin in the selected range\n",
    "qbins_idx_in_range = np.argwhere((qranges[rang]<=qbins)&(qbins<qranges[rang+1])).flatten()\n",
    "qbin = np.random.choice(qbins_idx_in_range)\n",
    "\n",
    "print(\"Selected random Range =\", rang, \"and qbin =\", qbin, \"corresponding to q = \", qs[qbin])\n",
    "print(\"---------------------------------------\")\n",
    "\n",
    "mus, logpdf = f[f\"glogPDF_Rang{rang}_{qbin+1}\"].values()\n",
    "ROOT.fQChrgPDF.Get().LoadParams(fname, 0)\n",
    "\n",
    "if len(mus) == 0:\n",
    "    raise Exception(f\"No data for selected bin number {qbin}\")"
   ]
  },
  {
   "cell_type": "code",
   "execution_count": 6,
   "metadata": {},
   "outputs": [
    {
     "data": {
      "application/vnd.jupyter.widget-view+json": {
       "model_id": "721363e595964bf68e97e66ee2f3ba73",
       "version_major": 2,
       "version_minor": 0
      },
      "image/png": "[encoded data removed]",
      "text/html": [
       "\n",
       "            <div style=\"display: inline-block;\">\n",
       "                <div class=\"jupyter-widgets widget-label\" style=\"text-align: center;\">\n",
       "                    Figure\n",
       "                </div>\n",
       "                <img src='data:image/png;base64,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' width=400.0/>\n",
       "            </div>\n",
       "        "
      ],
      "text/plain": [
       "Canvas(toolbar=Toolbar(toolitems=[('Home', 'Reset original view', 'home', 'home'), ('Back', 'Back to previous …"
      ]
     },
     "metadata": {},
     "output_type": "display_data"
    }
   ],
   "source": [
    "plt.figure(figsize=[4, 2])\n",
    "\n",
    "plt.scatter(mus, logpdf, s=10, color=\"k\")\n",
    "\n",
    "# fit\n",
    "x = np.linspace(mus[0], mus[-1], 100)\n",
    "y = evaluate_logpdf(qs[qbin], x, nparams[rang])\n",
    "plt.plot(x, y, color=\"k\")\n",
    "\n",
    "# thresholds\n",
    "for i in range(2):\n",
    "    _,  muthr  =  f[f\"gmuthr_Rang{rang}_{i}\"].values()\n",
    "    plt.axvline(muthr[qbin], color=\"g\")\n",
    "\n",
    "plt.xlabel(r\"true charge $\\mu$\")\n",
    "plt.ylabel(\"log pdf\")\n",
    "plt.tight_layout()"
   ]
  }
 ],
 "metadata": {
  "kernelspec": {
   "display_name": "Python 3 (ipykernel)",
   "language": "python",
   "name": "python3"
  },
  "language_info": {
   "codemirror_mode": {
    "name": "ipython",
    "version": 3
   },
   "file_extension": ".py",
   "mimetype": "text/x-python",
   "name": "python",
   "nbconvert_exporter": "python",
   "pygments_lexer": "ipython3",
   "version": "3.10.13"
  },
  "orig_nbformat": 4
 },
 "nbformat": 4,
 "nbformat_minor": 2
}
