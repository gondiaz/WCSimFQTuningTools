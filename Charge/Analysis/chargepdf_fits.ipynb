{
 "cells": [
  {
   "cell_type": "code",
   "execution_count": 1,
   "metadata": {},
   "outputs": [
    {
     "name": "stdout",
     "output_type": "stream",
     "text": [
      "Welcome to JupyROOT 6.28/00\n"
     ]
    },
    {
     "data": {
      "text/plain": [
       "0"
      ]
     },
     "execution_count": 1,
     "metadata": {},
     "output_type": "execute_result"
    }
   ],
   "source": [
    "import os\n",
    "import re\n",
    "import ctypes\n",
    "import uproot\n",
    "import ROOT\n",
    "import numpy as np\n",
    "\n",
    "import matplotlib.pyplot as plt\n",
    "%matplotlib widget\n",
    "\n",
    "from os.path import expandvars\n",
    "\n",
    "ROOT.gSystem.Load(expandvars(\"$HOME/Software/fiTQun/install-Linux_x86_64-gcc_9-python_3.10.13/lib/libfiTQunLib.so\"))"
   ]
  },
  {
   "cell_type": "code",
   "execution_count": 2,
   "metadata": {},
   "outputs": [],
   "source": [
    "def evaluate_logpdf(q, mus, npars):\n",
    "    # casting\n",
    "    npars = int(npars)\n",
    "\n",
    "    # values to be filled below\n",
    "    par      = np.zeros(npars)\n",
    "    muthr    = np.zeros(2)\n",
    "    coeff    = np.zeros(6)\n",
    "\n",
    "    # get parameters\n",
    "    ROOT.fQChrgPDF.Get().SetCPDFParams( q, 0, ctypes.c_int(npars), par, muthr, coeff)\n",
    "\n",
    "    # evaluate\n",
    "    logpdf = []\n",
    "    for mu in mus: logpdf.append(ROOT.fQChrgPDF.flogchrgPDF(mu, npars, par, muthr, coeff))\n",
    "    logpdf = np.array(logpdf)\n",
    "\n",
    "    return logpdf"
   ]
  },
  {
   "cell_type": "code",
   "execution_count": 3,
   "metadata": {},
   "outputs": [],
   "source": [
    "fname  = os.path.expandvars(\"$LUSTRE/Charge/tuning/fitted_cpdf.root\")\n",
    "f  = uproot.open(fname)\n",
    "f.classnames();"
   ]
  },
  {
   "cell_type": "code",
   "execution_count": 4,
   "metadata": {},
   "outputs": [],
   "source": [
    "# get qranges and nparameters\n",
    "nparams, qranges = f[\"hCPDFrange\"].to_numpy()\n",
    "nqranges = len(nparams)\n",
    "\n",
    "# get qbins\n",
    "_, _, qbins = f[\"charge2D\"].to_numpy()\n",
    "qs = (qbins[1:] + qbins [:-1])/2."
   ]
  },
  {
   "cell_type": "code",
   "execution_count": 5,
   "metadata": {},
   "outputs": [
    {
     "name": "stdout",
     "output_type": "stream",
     "text": [
      "Selected random Range = 0 and qbin = 102 corresponding to q =  65.35\n",
      "---------------------------------------\n"
     ]
    },
    {
     "name": "stdout",
     "output_type": "stream",
     "text": [
      "fQChrgPDF: Loading parameters from /sps/t2k/gdiazlop//Charge/tuning/fitted_cpdf.root PMT type 0\n",
      "P_unhit coeff. for Type 0 PMT: c_n=[0.070309, 0.000000, 0.000001, ]\n"
     ]
    }
   ],
   "source": [
    "# select random range and bin\n",
    "rang = np.random.randint(nqranges)\n",
    "# random bin in the selected range\n",
    "qbins_idx_in_range = np.argwhere((qranges[rang]<=qbins)&(qbins<qranges[rang+1])).flatten()\n",
    "qbin = np.random.choice(qbins_idx_in_range)\n",
    "\n",
    "# rang = 0\n",
    "# qbin = 0\n",
    "\n",
    "print(\"Selected random Range =\", rang, \"and qbin =\", qbin, \"corresponding to q = \", qs[qbin])\n",
    "print(\"---------------------------------------\")\n",
    "\n",
    "mus, logpdf = f[f\"glogPDF_Rang{rang}_{qbin+1}\"].values()\n",
    "ROOT.fQChrgPDF.Get().LoadParams(fname, 0)\n",
    "\n",
    "if len(mus) == 0:\n",
    "    raise Exception(f\"No data for selected bin number {qbin}\")"
   ]
  },
  {
   "cell_type": "code",
   "execution_count": 6,
   "metadata": {},
   "outputs": [
    {
     "data": {
      "application/vnd.jupyter.widget-view+json": {
       "model_id": "f82a639f8a79440a8671b9e09776fc25",
       "version_major": 2,
       "version_minor": 0
      },
      "image/png": "[encoded data removed]",
      "text/html": [
       "\n",
       "            <div style=\"display: inline-block;\">\n",
       "                <div class=\"jupyter-widgets widget-label\" style=\"text-align: center;\">\n",
       "                    Figure\n",
       "                </div>\n",
       "                <img src='data:image/png;base64,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' width=400.0/>\n",
       "            </div>\n",
       "        "
      ],
      "text/plain": [
       "Canvas(toolbar=Toolbar(toolitems=[('Home', 'Reset original view', 'home', 'home'), ('Back', 'Back to previous …"
      ]
     },
     "metadata": {},
     "output_type": "display_data"
    }
   ],
   "source": [
    "plt.figure(figsize=[4, 2])\n",
    "\n",
    "plt.scatter(mus, logpdf, s=10, color=\"k\")\n",
    "\n",
    "# fit\n",
    "x = np.linspace(mus[0], mus[-1], 100)\n",
    "y = evaluate_logpdf(qs[qbin], x, nparams[rang])\n",
    "plt.plot(x, y, color=\"k\")\n",
    "\n",
    "# thresholds\n",
    "for i in range(2):\n",
    "    _,  muthr  =  f[f\"gmuthr_Rang{rang}_{i}\"].values()\n",
    "    plt.axvline(muthr[qbin], color=\"g\")\n",
    "\n",
    "plt.xlabel(r\"true charge $\\mu$\")\n",
    "plt.ylabel(\"log pdf\")\n",
    "plt.tight_layout()"
   ]
  }
 ],
 "metadata": {
  "kernelspec": {
   "display_name": "Python 3 (ipykernel)",
   "language": "python",
   "name": "python3"
  },
  "language_info": {
   "codemirror_mode": {
    "name": "ipython",
    "version": 3
   },
   "file_extension": ".py",
   "mimetype": "text/x-python",
   "name": "python",
   "nbconvert_exporter": "python",
   "pygments_lexer": "ipython3",
   "version": "3.10.13"
  },
  "orig_nbformat": 4
 },
 "nbformat": 4,
 "nbformat_minor": 2
}
