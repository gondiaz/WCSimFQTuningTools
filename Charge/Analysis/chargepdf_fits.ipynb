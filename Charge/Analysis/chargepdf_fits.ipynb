{
 "cells": [
  {
   "cell_type": "code",
   "execution_count": 1,
   "metadata": {},
   "outputs": [
    {
     "name": "stdout",
     "output_type": "stream",
     "text": [
      "Welcome to JupyROOT 6.24/09\n"
     ]
    }
   ],
   "source": [
    "import os\n",
    "import re\n",
    "import ctypes\n",
    "import uproot\n",
    "import numpy as np\n",
    "import matplotlib.pyplot as plt\n",
    "\n",
    "import ROOT\n",
    "\n",
    "plt.rcParams[\"figure.figsize\"] = (5, 3)"
   ]
  },
  {
   "cell_type": "code",
   "execution_count": 2,
   "metadata": {},
   "outputs": [
    {
     "name": "stdout",
     "output_type": "stream",
     "text": [
      "\n",
      "\u001b[1mRooFit v3.60 -- Developed by Wouter Verkerke and David Kirkby\u001b[0m \n",
      "                Copyright (C) 2000-2013 NIKHEF, University of California & Stanford University\n",
      "                All rights reserved, please read http://roofit.sourceforge.net/license.txt\n",
      "\n"
     ]
    }
   ],
   "source": [
    "# ROOT.gSystem.Load(\"/pbs/home/g/gdiazlop/Software/fiTQun/fiTQun/fQChrgPDF_cc.so\")\n",
    "ROOT.gSystem.Load(\"/pbs/home/g/gdiazlop/Software/HK_Software/fiTQun/install-Linux_x86_64-gcc_4.8.5-python_3.10.11/lib/libfiTQunLib.so\")\n",
    "\n",
    "def evaluate_logpdf(q, mus, npars):\n",
    "\n",
    "    # values to be filled below\n",
    "    par      = np.zeros(npars)\n",
    "    muthr    = np.zeros(2)\n",
    "    coeff    = np.zeros(6)\n",
    "\n",
    "    # get parameters\n",
    "    ROOT.fQChrgPDF.Get().SetCPDFParams( q, 0, ctypes.c_int(npars), par, muthr, coeff)\n",
    "\n",
    "    # evaluate\n",
    "    logpdf = []\n",
    "    for mu in mus: logpdf.append(ROOT.fQChrgPDF.flogchrgPDF(mu, npars, par, muthr, coeff))\n",
    "    logpdf = np.array(logpdf)\n",
    "\n",
    "    return logpdf\n",
    "\n",
    "\n",
    "# TO-DO: curve fit this\n",
    "def get_fitting_function(mulow, muup):\n",
    "    def func(mu, *pars):\n",
    "        npars = len(pars)\n",
    "        if (mulow<=mu) & (mu<=muup):\n",
    "            return np.poly1d(np.flip(pars))(mu)\n",
    "        elif (mu<mulow):\n",
    "            c0 = sum([        pars[i]*mulow**i     for i in range(0, npars)])\n",
    "            c1 = sum([i*      pars[i]*mulow**(i-1) for i in range(1, npars)])\n",
    "            c2 = sum([i*(i-1)*pars[i]*mulow**(i-2)/2. for i in range(2, npars)])\n",
    "            if (c2>0.): c2 = 0\n",
    "            dmu = (mu-mulow)\n",
    "            return c0 + dmu*(c1 + c2*dmu)\n",
    "        elif (muup<mu):\n",
    "            c0 = sum([        pars[i]*muup**i        for i in range(0, npars)])\n",
    "            c1 = sum([i*      pars[i]*muup**(i-1)    for i in range(1, npars)])\n",
    "            c2 = sum([i*(i-1)*pars[i]*muup**(i-2)/2. for i in range(2, npars)])\n",
    "            if (c2>0.): c2 = 0\n",
    "            # print(c0, c1, c2)\n",
    "            dmu = (mu-muup)\n",
    "            return c0 + dmu*(c1 + c2*dmu)\n",
    "    return func"
   ]
  },
  {
   "cell_type": "code",
   "execution_count": 31,
   "metadata": {},
   "outputs": [
    {
     "data": {
      "text/plain": [
       "{'hCPDFrange;1': 'TH1D',\n",
       " 'glogPDF_Rang0_1;1': 'TGraph',\n",
       " 'glogPDF_Rang0_2;1': 'TGraph',\n",
       " 'glogPDF_Rang0_3;1': 'TGraph',\n",
       " 'glogPDF_Rang0_4;1': 'TGraph',\n",
       " 'glogPDF_Rang0_5;1': 'TGraph',\n",
       " 'glogPDF_Rang0_6;1': 'TGraph',\n",
       " 'glogPDF_Rang0_7;1': 'TGraph',\n",
       " 'glogPDF_Rang0_8;1': 'TGraph',\n",
       " 'glogPDF_Rang0_9;1': 'TGraph',\n",
       " 'glogPDF_Rang0_10;1': 'TGraph',\n",
       " 'glogPDF_Rang0_11;1': 'TGraph',\n",
       " 'glogPDF_Rang0_12;1': 'TGraph',\n",
       " 'glogPDF_Rang0_13;1': 'TGraph',\n",
       " 'glogPDF_Rang0_14;1': 'TGraph',\n",
       " 'glogPDF_Rang0_15;1': 'TGraph',\n",
       " 'glogPDF_Rang0_16;1': 'TGraph',\n",
       " 'glogPDF_Rang0_17;1': 'TGraph',\n",
       " 'glogPDF_Rang0_18;1': 'TGraph',\n",
       " 'glogPDF_Rang0_19;1': 'TGraph',\n",
       " 'glogPDF_Rang0_20;1': 'TGraph',\n",
       " 'glogPDF_Rang0_21;1': 'TGraph',\n",
       " 'glogPDF_Rang0_22;1': 'TGraph',\n",
       " 'glogPDF_Rang0_23;1': 'TGraph',\n",
       " 'glogPDF_Rang0_24;1': 'TGraph',\n",
       " 'glogPDF_Rang0_25;1': 'TGraph',\n",
       " 'glogPDF_Rang0_26;1': 'TGraph',\n",
       " 'glogPDF_Rang0_27;1': 'TGraph',\n",
       " 'glogPDF_Rang0_28;1': 'TGraph',\n",
       " 'glogPDF_Rang0_29;1': 'TGraph',\n",
       " 'glogPDF_Rang0_30;1': 'TGraph',\n",
       " 'glogPDF_Rang0_31;1': 'TGraph',\n",
       " 'glogPDF_Rang0_32;1': 'TGraph',\n",
       " 'glogPDF_Rang0_33;1': 'TGraph',\n",
       " 'glogPDF_Rang0_34;1': 'TGraph',\n",
       " 'glogPDF_Rang0_35;1': 'TGraph',\n",
       " 'glogPDF_Rang0_36;1': 'TGraph',\n",
       " 'glogPDF_Rang0_37;1': 'TGraph',\n",
       " 'glogPDF_Rang0_38;1': 'TGraph',\n",
       " 'glogPDF_Rang0_39;1': 'TGraph',\n",
       " 'glogPDF_Rang0_40;1': 'TGraph',\n",
       " 'glogPDF_Rang0_41;1': 'TGraph',\n",
       " 'glogPDF_Rang0_42;1': 'TGraph',\n",
       " 'glogPDF_Rang0_43;1': 'TGraph',\n",
       " 'glogPDF_Rang0_44;1': 'TGraph',\n",
       " 'glogPDF_Rang0_45;1': 'TGraph',\n",
       " 'glogPDF_Rang0_46;1': 'TGraph',\n",
       " 'glogPDF_Rang0_47;1': 'TGraph',\n",
       " 'glogPDF_Rang0_48;1': 'TGraph',\n",
       " 'glogPDF_Rang0_49;1': 'TGraph',\n",
       " 'glogPDF_Rang0_50;1': 'TGraph',\n",
       " 'glogPDF_Rang0_51;1': 'TGraph',\n",
       " 'glogPDF_Rang0_52;1': 'TGraph',\n",
       " 'glogPDF_Rang0_53;1': 'TGraph',\n",
       " 'glogPDF_Rang0_54;1': 'TGraph',\n",
       " 'glogPDF_Rang0_55;1': 'TGraph',\n",
       " 'glogPDF_Rang0_56;1': 'TGraph',\n",
       " 'glogPDF_Rang0_57;1': 'TGraph',\n",
       " 'glogPDF_Rang0_58;1': 'TGraph',\n",
       " 'glogPDF_Rang0_59;1': 'TGraph',\n",
       " 'glogPDF_Rang0_60;1': 'TGraph',\n",
       " 'glogPDF_Rang0_61;1': 'TGraph',\n",
       " 'glogPDF_Rang0_62;1': 'TGraph',\n",
       " 'glogPDF_Rang0_63;1': 'TGraph',\n",
       " 'glogPDF_Rang0_64;1': 'TGraph',\n",
       " 'glogPDF_Rang0_65;1': 'TGraph',\n",
       " 'glogPDF_Rang0_66;1': 'TGraph',\n",
       " 'glogPDF_Rang0_67;1': 'TGraph',\n",
       " 'glogPDF_Rang0_68;1': 'TGraph',\n",
       " 'glogPDF_Rang0_69;1': 'TGraph',\n",
       " 'glogPDF_Rang0_70;1': 'TGraph',\n",
       " 'glogPDF_Rang0_71;1': 'TGraph',\n",
       " 'glogPDF_Rang0_72;1': 'TGraph',\n",
       " 'glogPDF_Rang0_73;1': 'TGraph',\n",
       " 'glogPDF_Rang0_74;1': 'TGraph',\n",
       " 'glogPDF_Rang0_75;1': 'TGraph',\n",
       " 'glogPDF_Rang0_76;1': 'TGraph',\n",
       " 'glogPDF_Rang0_77;1': 'TGraph',\n",
       " 'glogPDF_Rang0_78;1': 'TGraph',\n",
       " 'glogPDF_Rang0_79;1': 'TGraph',\n",
       " 'glogPDF_Rang0_80;1': 'TGraph',\n",
       " 'glogPDF_Rang0_81;1': 'TGraph',\n",
       " 'glogPDF_Rang0_82;1': 'TGraph',\n",
       " 'glogPDF_Rang0_83;1': 'TGraph',\n",
       " 'glogPDF_Rang0_84;1': 'TGraph',\n",
       " 'glogPDF_Rang0_85;1': 'TGraph',\n",
       " 'glogPDF_Rang0_86;1': 'TGraph',\n",
       " 'glogPDF_Rang0_87;1': 'TGraph',\n",
       " 'glogPDF_Rang0_88;1': 'TGraph',\n",
       " 'glogPDF_Rang0_89;1': 'TGraph',\n",
       " 'glogPDF_Rang0_90;1': 'TGraph',\n",
       " 'glogPDF_Rang0_91;1': 'TGraph',\n",
       " 'glogPDF_Rang0_92;1': 'TGraph',\n",
       " 'glogPDF_Rang0_93;1': 'TGraph',\n",
       " 'glogPDF_Rang0_94;1': 'TGraph',\n",
       " 'glogPDF_Rang0_95;1': 'TGraph',\n",
       " 'glogPDF_Rang0_96;1': 'TGraph',\n",
       " 'glogPDF_Rang0_97;1': 'TGraph',\n",
       " 'glogPDF_Rang0_98;1': 'TGraph',\n",
       " 'glogPDF_Rang0_99;1': 'TGraph',\n",
       " 'glogPDF_Rang0_100;1': 'TGraph',\n",
       " 'glogPDF_Rang0_101;1': 'TGraph',\n",
       " 'glogPDF_Rang0_102;1': 'TGraph',\n",
       " 'glogPDF_Rang0_103;1': 'TGraph',\n",
       " 'glogPDF_Rang0_104;1': 'TGraph',\n",
       " 'glogPDF_Rang0_105;1': 'TGraph',\n",
       " 'glogPDF_Rang0_106;1': 'TGraph',\n",
       " 'glogPDF_Rang0_107;1': 'TGraph',\n",
       " 'glogPDF_Rang0_108;1': 'TGraph',\n",
       " 'glogPDF_Rang0_109;1': 'TGraph',\n",
       " 'glogPDF_Rang0_110;1': 'TGraph',\n",
       " 'glogPDF_Rang0_111;1': 'TGraph',\n",
       " 'glogPDF_Rang0_112;1': 'TGraph',\n",
       " 'glogPDF_Rang0_113;1': 'TGraph',\n",
       " 'glogPDF_Rang0_114;1': 'TGraph',\n",
       " 'glogPDF_Rang0_115;1': 'TGraph',\n",
       " 'glogPDF_Rang0_116;1': 'TGraph',\n",
       " 'glogPDF_Rang0_117;1': 'TGraph',\n",
       " 'glogPDF_Rang0_118;1': 'TGraph',\n",
       " 'glogPDF_Rang0_119;1': 'TGraph',\n",
       " 'glogPDF_Rang0_120;1': 'TGraph',\n",
       " 'glogPDF_Rang0_121;1': 'TGraph',\n",
       " 'glogPDF_Rang0_122;1': 'TGraph',\n",
       " 'glogPDF_Rang0_123;1': 'TGraph',\n",
       " 'glogPDF_Rang0_124;1': 'TGraph',\n",
       " 'glogPDF_Rang0_125;1': 'TGraph',\n",
       " 'glogPDF_Rang0_126;1': 'TGraph',\n",
       " 'glogPDF_Rang0_127;1': 'TGraph',\n",
       " 'glogPDF_Rang0_128;1': 'TGraph',\n",
       " 'glogPDF_Rang0_129;1': 'TGraph',\n",
       " 'glogPDF_Rang0_130;1': 'TGraph',\n",
       " 'glogPDF_Rang0_131;1': 'TGraph',\n",
       " 'glogPDF_Rang0_132;1': 'TGraph',\n",
       " 'glogPDF_Rang0_133;1': 'TGraph',\n",
       " 'glogPDF_Rang0_134;1': 'TGraph',\n",
       " 'glogPDF_Rang0_135;1': 'TGraph',\n",
       " 'glogPDF_Rang0_136;1': 'TGraph',\n",
       " 'glogPDF_Rang0_137;1': 'TGraph',\n",
       " 'glogPDF_Rang0_138;1': 'TGraph',\n",
       " 'glogPDF_Rang0_139;1': 'TGraph',\n",
       " 'glogPDF_Rang0_140;1': 'TGraph',\n",
       " 'glogPDF_Rang0_141;1': 'TGraph',\n",
       " 'glogPDF_Rang0_142;1': 'TGraph',\n",
       " 'glogPDF_Rang0_143;1': 'TGraph',\n",
       " 'glogPDF_Rang0_144;1': 'TGraph',\n",
       " 'gParam_Rang0_0;1': 'TGraph',\n",
       " 'gParam_Rang0_1;1': 'TGraph',\n",
       " 'gParam_Rang0_2;1': 'TGraph',\n",
       " 'gParam_Rang0_3;1': 'TGraph',\n",
       " 'gParam_Rang0_4;1': 'TGraph',\n",
       " 'gmuthr_Rang0_0;1': 'TGraph',\n",
       " 'gmuthr_Rang0_1;1': 'TGraph',\n",
       " 'gParam_Rang1_0;1': 'TGraph',\n",
       " 'gParam_Rang1_1;1': 'TGraph',\n",
       " 'gParam_Rang1_2;1': 'TGraph',\n",
       " 'gParam_Rang1_3;1': 'TGraph',\n",
       " 'gParam_Rang1_4;1': 'TGraph',\n",
       " 'gmuthr_Rang1_0;1': 'TGraph',\n",
       " 'gmuthr_Rang1_1;1': 'TGraph',\n",
       " 'PUnhit;1': 'TGraph',\n",
       " 'charge2D;1': 'TH2D',\n",
       " 'hPunhitPar;1': 'TH1D'}"
      ]
     },
     "execution_count": 31,
     "metadata": {},
     "output_type": "execute_result"
    }
   ],
   "source": [
    "# o stands for \"old\"\n",
    "fname  = os.path.expandvars(\"$HOME/Software/WCSimFQTuningTools/Charge/fitted_cpdf.root\")\n",
    "f  = uproot.open(fname)\n",
    "f.classnames()"
   ]
  },
  {
   "cell_type": "code",
   "execution_count": 32,
   "metadata": {},
   "outputs": [
    {
     "name": "stderr",
     "output_type": "stream",
     "text": [
      "No artists with labels found to put in legend.  Note that artists whose label start with an underscore are ignored when legend() is called with no argument.\n"
     ]
    },
    {
     "data": {
      "image/png": "[encoded data removed]",
      "text/plain": [
       "<Figure size 1500x300 with 5 Axes>"
      ]
     },
     "metadata": {},
     "output_type": "display_data"
    }
   ],
   "source": [
    "# compare gParams\n",
    "rang = 0\n",
    "npars, _ = f[\"hCPDFrange\"].to_numpy()\n",
    "npars = int(npars[rang])\n",
    "\n",
    "plt.figure(figsize=(15, 3))\n",
    "for n in range(npars):\n",
    "    qs, par   =  f[f\"gParam_Rang{rang}_{n}\"].values()\n",
    "    plt.subplot(1, npars, n+1)\n",
    "    plt.scatter( qs,  par, color=\"k\")\n",
    "    plt.xlabel(r\"q\")\n",
    "    plt.ylabel(f\"par {n}\")\n",
    "    # plt.xlim([0.1, None])\n",
    "    # plt.ylim([-2, 2])\n",
    "plt.legend()\n",
    "plt.tight_layout()"
   ]
  },
  {
   "cell_type": "code",
   "execution_count": 33,
   "metadata": {},
   "outputs": [
    {
     "data": {
      "image/png": "[encoded data removed]",
      "text/plain": [
       "<Figure size 500x300 with 1 Axes>"
      ]
     },
     "metadata": {},
     "output_type": "display_data"
    }
   ],
   "source": [
    "# compare muthrs\n",
    "plt.figure(figsize=(5, 3))\n",
    "for i in range(2):\n",
    "    qs,  muthr  =  f[f\"gmuthr_Rang{rang}_{i}\"].values()\n",
    "    plt.scatter( qs,  muthr, label=f\"muthr {i}\", s=1)\n",
    "    plt.xlabel(r\"q\")\n",
    "    plt.ylabel(f\"muthr {i}\")\n",
    "plt.legend(markerscale=5)\n",
    "plt.tight_layout()"
   ]
  },
  {
   "cell_type": "code",
   "execution_count": 34,
   "metadata": {},
   "outputs": [
    {
     "name": "stdout",
     "output_type": "stream",
     "text": [
      "fQChrgPDF: Loading parameters from /pbs/home/g/gdiazlop/Software/WCSimFQTuningTools/Charge/fitted_cpdf.root PMT type 0\n",
      "P_unhit coeff. for Type 0 PMT: c_n=[0.094537, 0.004827, -0.000130, ]\n"
     ]
    }
   ],
   "source": [
    "# opdf = ROOT.fQChrgPDF.Get()\n",
    "# opdf.LoadParams(ofname)\n",
    "\n",
    "# pdf = ROOT.fQChrgPDF.Get()\n",
    "# pdf.LoadParams(fname)\n",
    "\n",
    "ROOT.fQChrgPDF.Get().LoadParams(fname, 0)"
   ]
  },
  {
   "cell_type": "code",
   "execution_count": 40,
   "metadata": {},
   "outputs": [
    {
     "name": "stdout",
     "output_type": "stream",
     "text": [
      "Index bin in Range 0: 0\n",
      "Index bin global: 1\n",
      "Charge q =  0.05\n",
      "fQChrgPDF: Loading parameters from /pbs/home/g/gdiazlop/Software/WCSimFQTuningTools/Charge/fitted_cpdf.root PMT type 0\n",
      "P_unhit coeff. for Type 0 PMT: c_n=[0.094537, 0.004827, -0.000130, ]\n"
     ]
    },
    {
     "data": {
      "image/png": "[encoded data removed]",
      "text/plain": [
       "<Figure size 500x300 with 1 Axes>"
      ]
     },
     "metadata": {},
     "output_type": "display_data"
    }
   ],
   "source": [
    "qindex = 0\n",
    "\n",
    "print(f\"Index bin in Range {rang}:\", qindex)\n",
    "\n",
    "# compute global index (note is different for old and new since old duplicates the boundaries)\n",
    "rangindex0 = 0\n",
    "for r in range(rang):\n",
    "    qs, _ =  f[f\"gmuthr_Rang{r}_{i}\"].values()\n",
    "    rangindex0 += len(qs)\n",
    "globalindex = rangindex0 + qindex + 1 + rang # old gobal index\n",
    "\n",
    "print(f\"Index bin global:\", globalindex)\n",
    "print(f\"Charge q = \", qs[qindex])\n",
    "\n",
    "# get parameters\n",
    "pars  = []\n",
    "for n in range(npars):\n",
    "    qs, par   =  f[f\"gParam_Rang{rang}_{n}\"].values()\n",
    "    pars .append( par[qindex])\n",
    "pars  = np.array(pars)\n",
    "\n",
    "mus, logpdf = f[f\"glogPDF_Rang{rang}_{globalindex}\"].values()\n",
    "\n",
    "plt.figure()\n",
    "plt.scatter(mus, logpdf, color=\"k\")\n",
    "\n",
    "x = np.linspace(0, np.max(mus), 1000)\n",
    "\n",
    "#new\n",
    "ROOT.fQChrgPDF.Get().LoadParams(fname, 0)\n",
    "y = evaluate_logpdf(qs[qindex], x, npars)\n",
    "plt.plot(x, y, color=\"k\")\n",
    "\n",
    "# thresholds\n",
    "for i in range(2):\n",
    "    _,  muthr  =  f[f\"gmuthr_Rang{rang}_{i}\"].values()\n",
    "    plt.axvline(muthr[qindex], color=\"g\")\n",
    "\n",
    "plt.title(f\"q = {qs[qindex]}\")\n",
    "plt.xlabel(r\"$\\mu$\")\n",
    "plt.ylabel(\"log(pdf)\")\n",
    "plt.tight_layout()"
   ]
  },
  {
   "cell_type": "code",
   "execution_count": null,
   "metadata": {},
   "outputs": [],
   "source": []
  },
  {
   "cell_type": "code",
   "execution_count": 36,
   "metadata": {},
   "outputs": [
    {
     "ename": "NameError",
     "evalue": "name 'omus' is not defined",
     "output_type": "error",
     "traceback": [
      "\u001b[0;31m---------------------------------------------------------------------------\u001b[0m",
      "\u001b[0;31mNameError\u001b[0m                                 Traceback (most recent call last)",
      "\u001b[1;32m/pbs/home/g/gdiazlop/Software/WCSimFQTuningTools/Charge/Analysis/chargepdf_fits.ipynb Cell 9\u001b[0m line \u001b[0;36m4\n\u001b[1;32m      <a href='vscode-notebook-cell://ssh-remote%2Bcca.in2p3.fr/pbs/home/g/gdiazlop/Software/WCSimFQTuningTools/Charge/Analysis/chargepdf_fits.ipynb#X11sdnNjb2RlLXJlbW90ZQ%3D%3D?line=0'>1</a>\u001b[0m \u001b[39m# Check same pdf fit function old-new\u001b[39;00m\n\u001b[1;32m      <a href='vscode-notebook-cell://ssh-remote%2Bcca.in2p3.fr/pbs/home/g/gdiazlop/Software/WCSimFQTuningTools/Charge/Analysis/chargepdf_fits.ipynb#X11sdnNjb2RlLXJlbW90ZQ%3D%3D?line=2'>3</a>\u001b[0m plt\u001b[39m.\u001b[39mfigure()\n\u001b[0;32m----> <a href='vscode-notebook-cell://ssh-remote%2Bcca.in2p3.fr/pbs/home/g/gdiazlop/Software/WCSimFQTuningTools/Charge/Analysis/chargepdf_fits.ipynb#X11sdnNjb2RlLXJlbW90ZQ%3D%3D?line=3'>4</a>\u001b[0m plt\u001b[39m.\u001b[39mscatter(omus, ologpdf, color\u001b[39m=\u001b[39m\u001b[39m\"\u001b[39m\u001b[39mk\u001b[39m\u001b[39m\"\u001b[39m)\n\u001b[1;32m      <a href='vscode-notebook-cell://ssh-remote%2Bcca.in2p3.fr/pbs/home/g/gdiazlop/Software/WCSimFQTuningTools/Charge/Analysis/chargepdf_fits.ipynb#X11sdnNjb2RlLXJlbW90ZQ%3D%3D?line=5'>6</a>\u001b[0m ROOT\u001b[39m.\u001b[39mfQChrgPDF\u001b[39m.\u001b[39mGet()\u001b[39m.\u001b[39mLoadParams(ofname)\n\u001b[1;32m      <a href='vscode-notebook-cell://ssh-remote%2Bcca.in2p3.fr/pbs/home/g/gdiazlop/Software/WCSimFQTuningTools/Charge/Analysis/chargepdf_fits.ipynb#X11sdnNjb2RlLXJlbW90ZQ%3D%3D?line=6'>7</a>\u001b[0m y \u001b[39m=\u001b[39m evaluate_logpdf(oqs[qindex], x, npars)\n",
      "\u001b[0;31mNameError\u001b[0m: name 'omus' is not defined"
     ]
    },
    {
     "data": {
      "text/plain": [
       "<Figure size 500x300 with 0 Axes>"
      ]
     },
     "metadata": {},
     "output_type": "display_data"
    }
   ],
   "source": [
    "# Check same pdf fit function old-new\n",
    "\n",
    "plt.figure()\n",
    "plt.scatter(omus, ologpdf, color=\"k\")\n",
    "\n",
    "ROOT.fQChrgPDF.Get().LoadParams(ofname)\n",
    "y = evaluate_logpdf(oqs[qindex], x, npars)\n",
    "plt.plot(x, y, color=\"r\", label=\"old-fQ\", linestyle=\"--\")\n",
    "\n",
    "_, omuthr = of[f\"gmuthr_type0_Rang{rang}_0\"].values()\n",
    "mulow = omuthr[qindex]\n",
    "_, omuthr = of[f\"gmuthr_type0_Rang{rang}_1\"].values()\n",
    "muup  = omuthr[qindex]\n",
    "func = get_fitting_function(mulow, muup)\n",
    "y = [func(mu, *opars) for mu in x]\n",
    "plt.plot(x, y, color=\"g\", label=\"old-my\", linestyle=\"-\")\n",
    "\n",
    "plt.xlabel(r\"$\\mu$\")\n",
    "plt.ylabel(\"log(pdf)\")\n",
    "plt.legend()\n",
    "\n",
    "plt.tight_layout()"
   ]
  },
  {
   "cell_type": "code",
   "execution_count": null,
   "metadata": {},
   "outputs": [],
   "source": []
  },
  {
   "cell_type": "code",
   "execution_count": null,
   "metadata": {},
   "outputs": [],
   "source": []
  },
  {
   "cell_type": "code",
   "execution_count": 63,
   "metadata": {},
   "outputs": [
    {
     "data": {
      "text/plain": [
       "array([ 0.80488152, -1.18209961,  0.        , -3.0190184 , -0.64935093,\n",
       "       -0.01203552])"
      ]
     },
     "execution_count": 63,
     "metadata": {},
     "output_type": "execute_result"
    },
    {
     "name": "stdout",
     "output_type": "stream",
     "text": [
      "fQChrgPDF: Loading parameters from /pbs/home/g/gdiazlop/Software/WCSimFQTuningTools/Charge/old_tools/fitpdf_type0.root\n",
      "P_unhit coeff. for Type 0 PMT: c_n=[0.094172, 0.004374, 0.000000, ]\n"
     ]
    }
   ],
   "source": [
    "pdf = ROOT.fQChrgPDF.Get()\n",
    "pdf.LoadParams(ofname)\n",
    "\n",
    "p_    = np.zeros(npars)\n",
    "muthr = np.zeros(2)\n",
    "coeff = np.zeros(6)\n",
    "\n",
    "pdf.SetCPDFParams(qs[qindex], 0, ctypes.c_int(npars), p_, muthr, coeff)\n",
    "coeff"
   ]
  },
  {
   "cell_type": "code",
   "execution_count": 65,
   "metadata": {},
   "outputs": [
    {
     "name": "stdout",
     "output_type": "stream",
     "text": [
      "-3.019018400388627 -0.649350928978241 -0.0240710496638043\n"
     ]
    },
    {
     "data": {
      "text/plain": [
       "-5.410736097661167"
      ]
     },
     "execution_count": 65,
     "metadata": {},
     "output_type": "execute_result"
    }
   ],
   "source": [
    "func(6, *opars)"
   ]
  },
  {
   "cell_type": "code",
   "execution_count": null,
   "metadata": {},
   "outputs": [],
   "source": []
  },
  {
   "cell_type": "code",
   "execution_count": null,
   "metadata": {},
   "outputs": [],
   "source": []
  },
  {
   "cell_type": "code",
   "execution_count": null,
   "metadata": {},
   "outputs": [],
   "source": []
  }
 ],
 "metadata": {
  "kernelspec": {
   "display_name": "Python 3 (ipykernel)",
   "language": "python",
   "name": "python3"
  },
  "language_info": {
   "codemirror_mode": {
    "name": "ipython",
    "version": 3
   },
   "file_extension": ".py",
   "mimetype": "text/x-python",
   "name": "python",
   "nbconvert_exporter": "python",
   "pygments_lexer": "ipython3",
   "version": "3.10.11"
  },
  "orig_nbformat": 4
 },
 "nbformat": 4,
 "nbformat_minor": 2
}
