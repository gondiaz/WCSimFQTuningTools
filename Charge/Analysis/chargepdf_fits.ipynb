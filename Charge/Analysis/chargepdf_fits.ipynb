{
 "cells": [
  {
   "cell_type": "code",
   "execution_count": 1,
   "metadata": {},
   "outputs": [
    {
     "name": "stdout",
     "output_type": "stream",
     "text": [
      "Welcome to JupyROOT 6.28/11\n"
     ]
    },
    {
     "data": {
      "text/plain": [
       "0"
      ]
     },
     "execution_count": 1,
     "metadata": {},
     "output_type": "execute_result"
    }
   ],
   "source": [
    "import os\n",
    "import re\n",
    "import ctypes\n",
    "import uproot\n",
    "import ROOT\n",
    "import numpy as np\n",
    "\n",
    "import matplotlib.pyplot as plt\n",
    "%matplotlib widget\n",
    "\n",
    "from os.path import expandvars\n",
    "\n",
    "ROOT.gSystem.Load(expandvars(\"$HOME/Software/fiTQun/install-Linux_x86_64-gcc_9-python_3.10.13/lib/libfiTQunLib.so\"))"
   ]
  },
  {
   "cell_type": "code",
   "execution_count": 2,
   "metadata": {},
   "outputs": [],
   "source": [
    "def evaluate_logpdf(q, mus, npars):\n",
    "    # casting\n",
    "    npars = int(npars)\n",
    "\n",
    "    # values to be filled below\n",
    "    par      = np.zeros(npars)\n",
    "    muthr    = np.zeros(2)\n",
    "    coeff    = np.zeros(6)\n",
    "\n",
    "    # get parameters\n",
    "    ROOT.fQChrgPDF.Get().SetCPDFParams( q, 0, ctypes.c_int(npars), par, muthr, coeff)\n",
    "\n",
    "    # evaluate\n",
    "    logpdf = []\n",
    "    for mu in mus: logpdf.append(ROOT.fQChrgPDF.flogchrgPDF(mu, npars, par, muthr, coeff))\n",
    "    logpdf = np.array(logpdf)\n",
    "\n",
    "    return logpdf"
   ]
  },
  {
   "cell_type": "code",
   "execution_count": 3,
   "metadata": {},
   "outputs": [],
   "source": [
    "fname  = os.path.expandvars(\"$LUSTRE/Charge/tuning/fitted_cpdf.root\")\n",
    "f  = uproot.open(fname)\n",
    "f.classnames();"
   ]
  },
  {
   "cell_type": "code",
   "execution_count": 4,
   "metadata": {},
   "outputs": [],
   "source": [
    "# get qranges and nparameters\n",
    "nparams, qranges = f[\"hCPDFrange\"].to_numpy()\n",
    "nqranges = len(nparams)\n",
    "\n",
    "# get qbins\n",
    "_, _, qbins = f[\"charge2D\"].to_numpy()\n",
    "qs = (qbins[1:] + qbins [:-1])/2."
   ]
  },
  {
   "cell_type": "code",
   "execution_count": 7,
   "metadata": {},
   "outputs": [
    {
     "name": "stdout",
     "output_type": "stream",
     "text": [
      "Selected random Range = 0 and qbin = 0 corresponding to q =  0.05\n",
      "---------------------------------------\n",
      "fQChrgPDF: Loading parameters from /sps/t2k/gdiazlop//Charge/tuning/fitted_cpdf.root PMT type 0\n",
      "P_unhit coeff. for Type 0 PMT: c_n=[0.101847, 0.000004, 0.000624, ]\n"
     ]
    }
   ],
   "source": [
    "# select random range and bin\n",
    "rang = np.random.randint(nqranges)\n",
    "# random bin in the selected range\n",
    "qbins_idx_in_range = np.argwhere((qranges[rang]<=qbins)&(qbins<qranges[rang+1])).flatten()\n",
    "qbin = np.random.choice(qbins_idx_in_range)\n",
    "\n",
    "rang = 0\n",
    "qbin = 0\n",
    "\n",
    "print(\"Selected random Range =\", rang, \"and qbin =\", qbin, \"corresponding to q = \", qs[qbin])\n",
    "print(\"---------------------------------------\")\n",
    "\n",
    "mus, logpdf = f[f\"glogPDF_Rang{rang}_{qbin+1}\"].values()\n",
    "ROOT.fQChrgPDF.Get().LoadParams(fname, 0)\n",
    "\n",
    "if len(mus) == 0:\n",
    "    raise Exception(f\"No data for selected bin number {qbin}\")"
   ]
  },
  {
   "cell_type": "code",
   "execution_count": 8,
   "metadata": {},
   "outputs": [
    {
     "data": {
      "application/vnd.jupyter.widget-view+json": {
       "model_id": "663c008d102c4e2580bf6c6d100e6a70",
       "version_major": 2,
       "version_minor": 0
      },
      "image/png": "[encoded data removed]",
      "text/html": [
       "\n",
       "            <div style=\"display: inline-block;\">\n",
       "                <div class=\"jupyter-widgets widget-label\" style=\"text-align: center;\">\n",
       "                    Figure\n",
       "                </div>\n",
       "                <img src='data:image/png;base64,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' width=400.0/>\n",
       "            </div>\n",
       "        "
      ],
      "text/plain": [
       "Canvas(toolbar=Toolbar(toolitems=[('Home', 'Reset original view', 'home', 'home'), ('Back', 'Back to previous …"
      ]
     },
     "metadata": {},
     "output_type": "display_data"
    }
   ],
   "source": [
    "plt.figure(figsize=[4, 2])\n",
    "\n",
    "plt.scatter(mus, logpdf, s=10, color=\"k\")\n",
    "\n",
    "# fit\n",
    "x = np.linspace(mus[0], mus[-1], 100)\n",
    "y = evaluate_logpdf(qs[qbin], x, nparams[rang])\n",
    "plt.plot(x, y, color=\"k\")\n",
    "\n",
    "# thresholds\n",
    "for i in range(2):\n",
    "    _,  muthr  =  f[f\"gmuthr_Rang{rang}_{i}\"].values()\n",
    "    plt.axvline(muthr[qbin], color=\"g\")\n",
    "\n",
    "plt.xlabel(r\"true charge $\\mu$\")\n",
    "plt.ylabel(\"log pdf\")\n",
    "plt.tight_layout()"
   ]
  }
 ],
 "metadata": {
  "kernelspec": {
   "display_name": "Python 3 (ipykernel)",
   "language": "python",
   "name": "python3"
  },
  "language_info": {
   "codemirror_mode": {
    "name": "ipython",
    "version": 3
   },
   "file_extension": ".py",
   "mimetype": "text/x-python",
   "name": "python",
   "nbconvert_exporter": "python",
   "pygments_lexer": "ipython3",
   "version": "3.10.13"
  },
  "orig_nbformat": 4
 },
 "nbformat": 4,
 "nbformat_minor": 2
}
