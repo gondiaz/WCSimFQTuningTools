{
 "cells": [
  {
   "cell_type": "code",
   "execution_count": 1,
   "metadata": {},
   "outputs": [
    {
     "name": "stdout",
     "output_type": "stream",
     "text": [
      "Welcome to JupyROOT 6.28/11\n"
     ]
    },
    {
     "data": {
      "text/plain": [
       "0"
      ]
     },
     "execution_count": 1,
     "metadata": {},
     "output_type": "execute_result"
    }
   ],
   "source": [
    "import os\n",
    "import re\n",
    "import ctypes\n",
    "import uproot\n",
    "import ROOT\n",
    "import numpy as np\n",
    "\n",
    "import matplotlib.pyplot as plt\n",
    "%matplotlib widget\n",
    "\n",
    "from os.path import expandvars\n",
    "\n",
    "ROOT.gSystem.Load(expandvars(\"$HOME/Software/fiTQun/install-Linux_x86_64-gcc_9-python_3.10.13/lib/libfiTQunLib.so\"))"
   ]
  },
  {
   "cell_type": "code",
   "execution_count": 2,
   "metadata": {},
   "outputs": [],
   "source": [
    "def evaluate_logpdf(q, mus, npars):\n",
    "    # casting\n",
    "    npars = int(npars)\n",
    "\n",
    "    # values to be filled below\n",
    "    par      = np.zeros(npars)\n",
    "    muthr    = np.zeros(2)\n",
    "    coeff    = np.zeros(6)\n",
    "\n",
    "    # get parameters\n",
    "    ROOT.fQChrgPDF.Get().SetCPDFParams( q, 0, ctypes.c_int(npars), par, muthr, coeff)\n",
    "\n",
    "    # evaluate\n",
    "    logpdf = []\n",
    "    for mu in mus: logpdf.append(ROOT.fQChrgPDF.flogchrgPDF(mu, npars, par, muthr, coeff))\n",
    "    logpdf = np.array(logpdf)\n",
    "\n",
    "    return logpdf"
   ]
  },
  {
   "cell_type": "code",
   "execution_count": 4,
   "metadata": {},
   "outputs": [],
   "source": [
    "fname  = os.path.expandvars(\"$LUSTRE/Charge_dummy/fitted_cpdf.root\")\n",
    "f  = uproot.open(fname)\n",
    "f.classnames();"
   ]
  },
  {
   "cell_type": "code",
   "execution_count": 5,
   "metadata": {},
   "outputs": [],
   "source": [
    "# get qranges and nparameters\n",
    "nparams, qranges = f[\"hCPDFrange\"].to_numpy()\n",
    "nqranges = len(nparams)\n",
    "\n",
    "# get qbins\n",
    "_, _, qbins = f[\"charge2D\"].to_numpy()\n",
    "qs = (qbins[1:] + qbins [:-1])/2."
   ]
  },
  {
   "cell_type": "code",
   "execution_count": 28,
   "metadata": {},
   "outputs": [
    {
     "name": "stdout",
     "output_type": "stream",
     "text": [
      "Selected random Range = 0 and qbin = 45 corresponding to q =  9.399999999999999\n",
      "---------------------------------------\n",
      "fQChrgPDF: Loading parameters from /sps/t2k/gdiazlop//Charge_dummy/fitted_cpdf.root PMT type 0\n",
      "P_unhit coeff. for Type 0 PMT: c_n=[0.070633, 0.000001, 0.000104, ]\n"
     ]
    }
   ],
   "source": [
    "# select random range and bin\n",
    "rang = np.random.randint(nqranges)\n",
    "# random bin in the selected range\n",
    "qbins_idx_in_range = np.argwhere((qranges[rang]<=qbins)&(qbins<qranges[rang+1])).flatten()\n",
    "qbin = np.random.choice(qbins_idx_in_range)\n",
    "\n",
    "# rang = 0\n",
    "# qbin = 0\n",
    "\n",
    "print(\"Selected random Range =\", rang, \"and qbin =\", qbin, \"corresponding to q = \", qs[qbin])\n",
    "print(\"---------------------------------------\")\n",
    "\n",
    "mus, logpdf = f[f\"glogPDF_Rang{rang}_{qbin+1}\"].values()\n",
    "ROOT.fQChrgPDF.Get().LoadParams(fname, 0)\n",
    "\n",
    "if len(mus) == 0:\n",
    "    raise Exception(f\"No data for selected bin number {qbin}\")"
   ]
  },
  {
   "cell_type": "code",
   "execution_count": 29,
   "metadata": {},
   "outputs": [
    {
     "data": {
      "application/vnd.jupyter.widget-view+json": {
       "model_id": "6012bb6933f345929567a87bbf9c2fb9",
       "version_major": 2,
       "version_minor": 0
      },
      "image/png": "[encoded data removed]",
      "text/html": [
       "\n",
       "            <div style=\"display: inline-block;\">\n",
       "                <div class=\"jupyter-widgets widget-label\" style=\"text-align: center;\">\n",
       "                    Figure\n",
       "                </div>\n",
       "                <img src='data:image/png;base64,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' width=400.0/>\n",
       "            </div>\n",
       "        "
      ],
      "text/plain": [
       "Canvas(toolbar=Toolbar(toolitems=[('Home', 'Reset original view', 'home', 'home'), ('Back', 'Back to previous …"
      ]
     },
     "metadata": {},
     "output_type": "display_data"
    }
   ],
   "source": [
    "plt.figure(figsize=[4, 2])\n",
    "\n",
    "plt.scatter(mus, logpdf, s=10, color=\"k\")\n",
    "\n",
    "# fit\n",
    "x = np.linspace(mus[0], mus[-1], 100)\n",
    "y = evaluate_logpdf(qs[qbin], x, nparams[rang])\n",
    "plt.plot(x, y, color=\"k\")\n",
    "\n",
    "# thresholds\n",
    "for i in range(2):\n",
    "    _,  muthr  =  f[f\"gmuthr_Rang{rang}_{i}\"].values()\n",
    "    plt.axvline(muthr[qbin], color=\"g\")\n",
    "\n",
    "plt.xlabel(r\"true charge $\\mu$\")\n",
    "plt.ylabel(\"log pdf\")\n",
    "plt.tight_layout()"
   ]
  }
 ],
 "metadata": {
  "kernelspec": {
   "display_name": "Python 3 (ipykernel)",
   "language": "python",
   "name": "python3"
  },
  "language_info": {
   "codemirror_mode": {
    "name": "ipython",
    "version": 3
   },
   "file_extension": ".py",
   "mimetype": "text/x-python",
   "name": "python",
   "nbconvert_exporter": "python",
   "pygments_lexer": "ipython3",
   "version": "3.10.13"
  },
  "orig_nbformat": 4
 },
 "nbformat": 4,
 "nbformat_minor": 2
}
